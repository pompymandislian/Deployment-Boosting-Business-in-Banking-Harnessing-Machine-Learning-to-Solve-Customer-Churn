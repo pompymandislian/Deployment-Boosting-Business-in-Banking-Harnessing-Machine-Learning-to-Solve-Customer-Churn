{
 "cells": [
  {
   "cell_type": "code",
   "execution_count": 1,
   "id": "5af0c2c8",
   "metadata": {},
   "outputs": [],
   "source": [
    "import joblib\n",
    "from encodermodule import Encoder\n",
    "from feature_data import Scaling, Transform, Reduction, imbalance\n",
    "import pandas as pd"
   ]
  },
  {
   "cell_type": "code",
   "execution_count": 2,
   "id": "a1584754",
   "metadata": {},
   "outputs": [],
   "source": [
    "# load data\n",
    "X_train = joblib.load(\"D:/BOOTCAMP/project/Project Pribadi/ml churn/X_train.csv\")\n",
    "y_train = joblib.load(\"D:/BOOTCAMP/project/Project Pribadi/ml churn/y_train.csv\")\n",
    "X_test = joblib.load(\"D:/BOOTCAMP/project/Project Pribadi/ml churn/X_test.csv\")\n",
    "y_test = joblib.load(\"D:/BOOTCAMP/project/Project Pribadi/ml churn/y_test.csv\")"
   ]
  },
  {
   "cell_type": "code",
   "execution_count": 3,
   "id": "8f1d203a",
   "metadata": {},
   "outputs": [],
   "source": [
    "# concat train and test\n",
    "\n",
    "train = pd.concat([X_train, y_train], axis=1)\n",
    "test = pd.concat([X_test, y_test], axis=1)"
   ]
  },
  {
   "cell_type": "code",
   "execution_count": 4,
   "id": "c44416c6",
   "metadata": {},
   "outputs": [
    {
     "data": {
      "text/html": [
       "<div>\n",
       "<style scoped>\n",
       "    .dataframe tbody tr th:only-of-type {\n",
       "        vertical-align: middle;\n",
       "    }\n",
       "\n",
       "    .dataframe tbody tr th {\n",
       "        vertical-align: top;\n",
       "    }\n",
       "\n",
       "    .dataframe thead th {\n",
       "        text-align: right;\n",
       "    }\n",
       "</style>\n",
       "<table border=\"1\" class=\"dataframe\">\n",
       "  <thead>\n",
       "    <tr style=\"text-align: right;\">\n",
       "      <th></th>\n",
       "      <th>credit_score</th>\n",
       "      <th>tenure</th>\n",
       "      <th>balance</th>\n",
       "      <th>credit_card</th>\n",
       "      <th>active_member</th>\n",
       "      <th>estimated_salary</th>\n",
       "    </tr>\n",
       "  </thead>\n",
       "  <tbody>\n",
       "    <tr>\n",
       "      <th>4088</th>\n",
       "      <td>755</td>\n",
       "      <td>2</td>\n",
       "      <td>137430.82</td>\n",
       "      <td>0</td>\n",
       "      <td>0</td>\n",
       "      <td>176768.59</td>\n",
       "    </tr>\n",
       "    <tr>\n",
       "      <th>9131</th>\n",
       "      <td>775</td>\n",
       "      <td>4</td>\n",
       "      <td>152309.37</td>\n",
       "      <td>1</td>\n",
       "      <td>0</td>\n",
       "      <td>104112.00</td>\n",
       "    </tr>\n",
       "  </tbody>\n",
       "</table>\n",
       "</div>"
      ],
      "text/plain": [
       "      credit_score  tenure    balance  credit_card  active_member  \\\n",
       "4088           755       2  137430.82            0              0   \n",
       "9131           775       4  152309.37            1              0   \n",
       "\n",
       "      estimated_salary  \n",
       "4088         176768.59  \n",
       "9131         104112.00  "
      ]
     },
     "execution_count": 4,
     "metadata": {},
     "output_type": "execute_result"
    }
   ],
   "source": [
    "# split numeric data train\n",
    "numeric_cols = X_train.select_dtypes(include=['number'])\n",
    "numeric_cols.head(2)"
   ]
  },
  {
   "cell_type": "code",
   "execution_count": 5,
   "id": "51875873",
   "metadata": {},
   "outputs": [
    {
     "data": {
      "text/html": [
       "<div>\n",
       "<style scoped>\n",
       "    .dataframe tbody tr th:only-of-type {\n",
       "        vertical-align: middle;\n",
       "    }\n",
       "\n",
       "    .dataframe tbody tr th {\n",
       "        vertical-align: top;\n",
       "    }\n",
       "\n",
       "    .dataframe thead th {\n",
       "        text-align: right;\n",
       "    }\n",
       "</style>\n",
       "<table border=\"1\" class=\"dataframe\">\n",
       "  <thead>\n",
       "    <tr style=\"text-align: right;\">\n",
       "      <th></th>\n",
       "      <th>credit_score</th>\n",
       "      <th>tenure</th>\n",
       "      <th>balance</th>\n",
       "      <th>credit_card</th>\n",
       "      <th>active_member</th>\n",
       "      <th>estimated_salary</th>\n",
       "    </tr>\n",
       "  </thead>\n",
       "  <tbody>\n",
       "    <tr>\n",
       "      <th>4256</th>\n",
       "      <td>596</td>\n",
       "      <td>9</td>\n",
       "      <td>134208.25</td>\n",
       "      <td>1</td>\n",
       "      <td>1</td>\n",
       "      <td>13455.43</td>\n",
       "    </tr>\n",
       "    <tr>\n",
       "      <th>3373</th>\n",
       "      <td>644</td>\n",
       "      <td>2</td>\n",
       "      <td>186347.97</td>\n",
       "      <td>1</td>\n",
       "      <td>0</td>\n",
       "      <td>92809.73</td>\n",
       "    </tr>\n",
       "  </tbody>\n",
       "</table>\n",
       "</div>"
      ],
      "text/plain": [
       "      credit_score  tenure    balance  credit_card  active_member  \\\n",
       "4256           596       9  134208.25            1              1   \n",
       "3373           644       2  186347.97            1              0   \n",
       "\n",
       "      estimated_salary  \n",
       "4256          13455.43  \n",
       "3373          92809.73  "
      ]
     },
     "execution_count": 5,
     "metadata": {},
     "output_type": "execute_result"
    }
   ],
   "source": [
    "# split numeric data test\n",
    "numeric_cols_test = X_test.select_dtypes(include=['number'])\n",
    "numeric_cols_test.head(2)"
   ]
  },
  {
   "cell_type": "code",
   "execution_count": 6,
   "id": "f82966c6",
   "metadata": {},
   "outputs": [
    {
     "data": {
      "text/html": [
       "<div>\n",
       "<style scoped>\n",
       "    .dataframe tbody tr th:only-of-type {\n",
       "        vertical-align: middle;\n",
       "    }\n",
       "\n",
       "    .dataframe tbody tr th {\n",
       "        vertical-align: top;\n",
       "    }\n",
       "\n",
       "    .dataframe thead th {\n",
       "        text-align: right;\n",
       "    }\n",
       "</style>\n",
       "<table border=\"1\" class=\"dataframe\">\n",
       "  <thead>\n",
       "    <tr style=\"text-align: right;\">\n",
       "      <th></th>\n",
       "      <th>country_France</th>\n",
       "      <th>country_Germany</th>\n",
       "      <th>country_Spain</th>\n",
       "      <th>gender_Female</th>\n",
       "      <th>gender_Male</th>\n",
       "      <th>Age_mature</th>\n",
       "      <th>Age_old</th>\n",
       "      <th>Age_young</th>\n",
       "    </tr>\n",
       "  </thead>\n",
       "  <tbody>\n",
       "    <tr>\n",
       "      <th>4088</th>\n",
       "      <td>0</td>\n",
       "      <td>1</td>\n",
       "      <td>0</td>\n",
       "      <td>0</td>\n",
       "      <td>1</td>\n",
       "      <td>1</td>\n",
       "      <td>0</td>\n",
       "      <td>0</td>\n",
       "    </tr>\n",
       "    <tr>\n",
       "      <th>9131</th>\n",
       "      <td>1</td>\n",
       "      <td>0</td>\n",
       "      <td>0</td>\n",
       "      <td>1</td>\n",
       "      <td>0</td>\n",
       "      <td>0</td>\n",
       "      <td>0</td>\n",
       "      <td>1</td>\n",
       "    </tr>\n",
       "  </tbody>\n",
       "</table>\n",
       "</div>"
      ],
      "text/plain": [
       "      country_France  country_Germany  country_Spain  gender_Female  \\\n",
       "4088               0                1              0              0   \n",
       "9131               1                0              0              1   \n",
       "\n",
       "      gender_Male  Age_mature  Age_old  Age_young  \n",
       "4088            1           1        0          0  \n",
       "9131            0           0        0          1  "
      ]
     },
     "execution_count": 6,
     "metadata": {},
     "output_type": "execute_result"
    }
   ],
   "source": [
    "# split categoric data train\n",
    "category_cols = X_train.select_dtypes(include=['object'])\n",
    "category_cols.head(2)\n",
    "\n",
    "# ohe\n",
    "ohe = Encoder(category_cols)\n",
    "data_ohe = ohe.Ohe_encoder()\n",
    "data_ohe.head(2)"
   ]
  },
  {
   "cell_type": "code",
   "execution_count": 7,
   "id": "096e239e",
   "metadata": {},
   "outputs": [
    {
     "data": {
      "text/html": [
       "<div>\n",
       "<style scoped>\n",
       "    .dataframe tbody tr th:only-of-type {\n",
       "        vertical-align: middle;\n",
       "    }\n",
       "\n",
       "    .dataframe tbody tr th {\n",
       "        vertical-align: top;\n",
       "    }\n",
       "\n",
       "    .dataframe thead th {\n",
       "        text-align: right;\n",
       "    }\n",
       "</style>\n",
       "<table border=\"1\" class=\"dataframe\">\n",
       "  <thead>\n",
       "    <tr style=\"text-align: right;\">\n",
       "      <th></th>\n",
       "      <th>country_France</th>\n",
       "      <th>country_Germany</th>\n",
       "      <th>country_Spain</th>\n",
       "      <th>gender_Female</th>\n",
       "      <th>gender_Male</th>\n",
       "      <th>Age_mature</th>\n",
       "      <th>Age_old</th>\n",
       "      <th>Age_young</th>\n",
       "    </tr>\n",
       "  </thead>\n",
       "  <tbody>\n",
       "    <tr>\n",
       "      <th>4256</th>\n",
       "      <td>0</td>\n",
       "      <td>0</td>\n",
       "      <td>1</td>\n",
       "      <td>1</td>\n",
       "      <td>0</td>\n",
       "      <td>0</td>\n",
       "      <td>1</td>\n",
       "      <td>0</td>\n",
       "    </tr>\n",
       "    <tr>\n",
       "      <th>3373</th>\n",
       "      <td>1</td>\n",
       "      <td>0</td>\n",
       "      <td>0</td>\n",
       "      <td>0</td>\n",
       "      <td>1</td>\n",
       "      <td>1</td>\n",
       "      <td>0</td>\n",
       "      <td>0</td>\n",
       "    </tr>\n",
       "  </tbody>\n",
       "</table>\n",
       "</div>"
      ],
      "text/plain": [
       "      country_France  country_Germany  country_Spain  gender_Female  \\\n",
       "4256               0                0              1              1   \n",
       "3373               1                0              0              0   \n",
       "\n",
       "      gender_Male  Age_mature  Age_old  Age_young  \n",
       "4256            0           0        1          0  \n",
       "3373            1           1        0          0  "
      ]
     },
     "execution_count": 7,
     "metadata": {},
     "output_type": "execute_result"
    }
   ],
   "source": [
    "# split categoric data test\n",
    "category_cols_test = X_test.select_dtypes(include=['object'])\n",
    "category_cols_test.head(2)\n",
    "\n",
    "# ohe\n",
    "ohe = Encoder(category_cols_test)\n",
    "data_ohe_test = ohe.Ohe_encoder()\n",
    "data_ohe_test.head(2)"
   ]
  },
  {
   "cell_type": "code",
   "execution_count": 8,
   "id": "0b37e427",
   "metadata": {},
   "outputs": [
    {
     "data": {
      "text/html": [
       "<div>\n",
       "<style scoped>\n",
       "    .dataframe tbody tr th:only-of-type {\n",
       "        vertical-align: middle;\n",
       "    }\n",
       "\n",
       "    .dataframe tbody tr th {\n",
       "        vertical-align: top;\n",
       "    }\n",
       "\n",
       "    .dataframe thead th {\n",
       "        text-align: right;\n",
       "    }\n",
       "</style>\n",
       "<table border=\"1\" class=\"dataframe\">\n",
       "  <thead>\n",
       "    <tr style=\"text-align: right;\">\n",
       "      <th></th>\n",
       "      <th>country_France</th>\n",
       "      <th>country_Germany</th>\n",
       "      <th>country_Spain</th>\n",
       "      <th>gender_Female</th>\n",
       "      <th>gender_Male</th>\n",
       "      <th>Age_mature</th>\n",
       "      <th>Age_old</th>\n",
       "      <th>Age_young</th>\n",
       "      <th>credit_score</th>\n",
       "      <th>tenure</th>\n",
       "      <th>balance</th>\n",
       "      <th>credit_card</th>\n",
       "      <th>active_member</th>\n",
       "      <th>estimated_salary</th>\n",
       "    </tr>\n",
       "  </thead>\n",
       "  <tbody>\n",
       "    <tr>\n",
       "      <th>4088</th>\n",
       "      <td>0</td>\n",
       "      <td>1</td>\n",
       "      <td>0</td>\n",
       "      <td>0</td>\n",
       "      <td>1</td>\n",
       "      <td>1</td>\n",
       "      <td>0</td>\n",
       "      <td>0</td>\n",
       "      <td>755</td>\n",
       "      <td>2</td>\n",
       "      <td>137430.82</td>\n",
       "      <td>0</td>\n",
       "      <td>0</td>\n",
       "      <td>176768.59</td>\n",
       "    </tr>\n",
       "    <tr>\n",
       "      <th>9131</th>\n",
       "      <td>1</td>\n",
       "      <td>0</td>\n",
       "      <td>0</td>\n",
       "      <td>1</td>\n",
       "      <td>0</td>\n",
       "      <td>0</td>\n",
       "      <td>0</td>\n",
       "      <td>1</td>\n",
       "      <td>775</td>\n",
       "      <td>4</td>\n",
       "      <td>152309.37</td>\n",
       "      <td>1</td>\n",
       "      <td>0</td>\n",
       "      <td>104112.00</td>\n",
       "    </tr>\n",
       "  </tbody>\n",
       "</table>\n",
       "</div>"
      ],
      "text/plain": [
       "      country_France  country_Germany  country_Spain  gender_Female  \\\n",
       "4088               0                1              0              0   \n",
       "9131               1                0              0              1   \n",
       "\n",
       "      gender_Male  Age_mature  Age_old  Age_young  credit_score  tenure  \\\n",
       "4088            1           1        0          0           755       2   \n",
       "9131            0           0        0          1           775       4   \n",
       "\n",
       "        balance  credit_card  active_member  estimated_salary  \n",
       "4088  137430.82            0              0         176768.59  \n",
       "9131  152309.37            1              0         104112.00  "
      ]
     },
     "execution_count": 8,
     "metadata": {},
     "output_type": "execute_result"
    }
   ],
   "source": [
    "# concat data ohe and numeric (data train)\n",
    "X_train = pd.concat([data_ohe, numeric_cols], axis=1)\n",
    "X_train.head(2)"
   ]
  },
  {
   "cell_type": "code",
   "execution_count": 9,
   "id": "25071401",
   "metadata": {},
   "outputs": [
    {
     "data": {
      "text/html": [
       "<div>\n",
       "<style scoped>\n",
       "    .dataframe tbody tr th:only-of-type {\n",
       "        vertical-align: middle;\n",
       "    }\n",
       "\n",
       "    .dataframe tbody tr th {\n",
       "        vertical-align: top;\n",
       "    }\n",
       "\n",
       "    .dataframe thead th {\n",
       "        text-align: right;\n",
       "    }\n",
       "</style>\n",
       "<table border=\"1\" class=\"dataframe\">\n",
       "  <thead>\n",
       "    <tr style=\"text-align: right;\">\n",
       "      <th></th>\n",
       "      <th>country_France</th>\n",
       "      <th>country_Germany</th>\n",
       "      <th>country_Spain</th>\n",
       "      <th>gender_Female</th>\n",
       "      <th>gender_Male</th>\n",
       "      <th>Age_mature</th>\n",
       "      <th>Age_old</th>\n",
       "      <th>Age_young</th>\n",
       "      <th>credit_score</th>\n",
       "      <th>tenure</th>\n",
       "      <th>balance</th>\n",
       "      <th>credit_card</th>\n",
       "      <th>active_member</th>\n",
       "      <th>estimated_salary</th>\n",
       "    </tr>\n",
       "  </thead>\n",
       "  <tbody>\n",
       "    <tr>\n",
       "      <th>4256</th>\n",
       "      <td>0</td>\n",
       "      <td>0</td>\n",
       "      <td>1</td>\n",
       "      <td>1</td>\n",
       "      <td>0</td>\n",
       "      <td>0</td>\n",
       "      <td>1</td>\n",
       "      <td>0</td>\n",
       "      <td>596</td>\n",
       "      <td>9</td>\n",
       "      <td>134208.25</td>\n",
       "      <td>1</td>\n",
       "      <td>1</td>\n",
       "      <td>13455.43</td>\n",
       "    </tr>\n",
       "    <tr>\n",
       "      <th>3373</th>\n",
       "      <td>1</td>\n",
       "      <td>0</td>\n",
       "      <td>0</td>\n",
       "      <td>0</td>\n",
       "      <td>1</td>\n",
       "      <td>1</td>\n",
       "      <td>0</td>\n",
       "      <td>0</td>\n",
       "      <td>644</td>\n",
       "      <td>2</td>\n",
       "      <td>186347.97</td>\n",
       "      <td>1</td>\n",
       "      <td>0</td>\n",
       "      <td>92809.73</td>\n",
       "    </tr>\n",
       "  </tbody>\n",
       "</table>\n",
       "</div>"
      ],
      "text/plain": [
       "      country_France  country_Germany  country_Spain  gender_Female  \\\n",
       "4256               0                0              1              1   \n",
       "3373               1                0              0              0   \n",
       "\n",
       "      gender_Male  Age_mature  Age_old  Age_young  credit_score  tenure  \\\n",
       "4256            0           0        1          0           596       9   \n",
       "3373            1           1        0          0           644       2   \n",
       "\n",
       "        balance  credit_card  active_member  estimated_salary  \n",
       "4256  134208.25            1              1          13455.43  \n",
       "3373  186347.97            1              0          92809.73  "
      ]
     },
     "execution_count": 9,
     "metadata": {},
     "output_type": "execute_result"
    }
   ],
   "source": [
    "# concat data ohe and numeric (data test)\n",
    "X_test = pd.concat([data_ohe_test, numeric_cols_test], axis=1)\n",
    "X_test.head(2)"
   ]
  },
  {
   "cell_type": "code",
   "execution_count": 10,
   "id": "9f069b92",
   "metadata": {},
   "outputs": [],
   "source": [
    "# call function from module Data train\n",
    "balance = imbalance()\n",
    "X_train_smote, y_train_smote = balance.perform_smote(X_train, y_train)\n",
    "X_train_under, y_train_under = balance.perform_undersampling(X_train, y_train)\n",
    "X_train_over, y_train_over = balance.perform_oversampling(X_train, y_train)"
   ]
  },
  {
   "cell_type": "code",
   "execution_count": 11,
   "id": "4dd0fb24",
   "metadata": {},
   "outputs": [
    {
     "name": "stdout",
     "output_type": "stream",
     "text": [
      "After SMOTE, the shape of train_X: (2460, 14)\n",
      "After SMOTE, the shape of train_y: (2460,) \n",
      "\n",
      "After SMOTE, counts of label '1': 3876\n",
      "After SMOTE, counts of label '0': 3876\n"
     ]
    }
   ],
   "source": [
    "# check result SMOTE\n",
    "print('After SMOTE, the shape of train_X: {}'.format(X_train_under.shape))\n",
    "print('After SMOTE, the shape of train_y: {} \\n'.format(y_train_under.shape))\n",
    "\n",
    "print(\"After SMOTE, counts of label '1': {}\".format(sum(y_train_smote == 1)))\n",
    "print(\"After SMOTE, counts of label '0': {}\".format(sum(y_train_smote == 0)))"
   ]
  },
  {
   "cell_type": "code",
   "execution_count": 12,
   "id": "e1f3da63",
   "metadata": {},
   "outputs": [
    {
     "name": "stdout",
     "output_type": "stream",
     "text": [
      "After Undersampling, the shape of train_X: (2460, 14)\n",
      "After Undersampling, the shape of train_y: (2460,) \n",
      "\n",
      "After Undersampling, counts of label '1': 1230\n",
      "After Undersampling, counts of label '0': 1230\n"
     ]
    }
   ],
   "source": [
    "# check result Undersampling\n",
    "print('After Undersampling, the shape of train_X: {}'.format(X_train_under.shape))\n",
    "print('After Undersampling, the shape of train_y: {} \\n'.format(y_train_under.shape))\n",
    "\n",
    "print(\"After Undersampling, counts of label '1': {}\".format(sum(y_train_under == 1)))\n",
    "print(\"After Undersampling, counts of label '0': {}\".format(sum(y_train_under == 0)))"
   ]
  },
  {
   "cell_type": "code",
   "execution_count": 13,
   "id": "a332e92d",
   "metadata": {},
   "outputs": [
    {
     "name": "stdout",
     "output_type": "stream",
     "text": [
      "After Oversampling, the shape of train_X: (7752, 14)\n",
      "After Oversampling, the shape of train_y: (7752,) \n",
      "\n",
      "After Oversampling, counts of label '1': 3876\n",
      "After Oversampling, counts of label '0': 3876\n"
     ]
    }
   ],
   "source": [
    "# check result Oversampling\n",
    "print('After Oversampling, the shape of train_X: {}'.format(X_train_over.shape))\n",
    "print('After Oversampling, the shape of train_y: {} \\n'.format(y_train_over.shape))\n",
    "\n",
    "print(\"After Oversampling, counts of label '1': {}\".format(sum(y_train_over == 1)))\n",
    "print(\"After Oversampling, counts of label '0': {}\".format(sum(y_train_over == 0)))"
   ]
  },
  {
   "cell_type": "code",
   "execution_count": 14,
   "id": "c6b56924",
   "metadata": {},
   "outputs": [],
   "source": [
    "# call function from module data test\n",
    "balance = imbalance()\n",
    "X_test_smote, y_test_smote = balance.perform_smote(X_test, y_test)"
   ]
  },
  {
   "cell_type": "markdown",
   "id": "826af2f7",
   "metadata": {},
   "source": [
    "# SCALING"
   ]
  },
  {
   "cell_type": "code",
   "execution_count": 15,
   "id": "42329b9f",
   "metadata": {},
   "outputs": [],
   "source": [
    "# split data\n",
    "columns_feature = ['balance','credit_score','estimated_salary']"
   ]
  },
  {
   "cell_type": "code",
   "execution_count": 16,
   "id": "7e3b07a6",
   "metadata": {},
   "outputs": [],
   "source": [
    "# drop columns data train\n",
    "drop_over = X_train_over.drop(columns=['balance', 'credit_score', 'estimated_salary'])\n",
    "drop_under = X_train_under.drop(columns=['balance', 'credit_score', 'estimated_salary'])\n",
    "drop_smote = X_train_smote.drop(columns=['balance', 'credit_score', 'estimated_salary'])\n",
    "drop_train = X_train.drop(columns=['balance', 'credit_score', 'estimated_salary'])"
   ]
  },
  {
   "cell_type": "code",
   "execution_count": 17,
   "id": "ad644fef",
   "metadata": {},
   "outputs": [],
   "source": [
    "# drop columns data test\n",
    "drop_smote_test = X_test_smote.drop(columns=['balance', 'credit_score', 'estimated_salary'])"
   ]
  },
  {
   "cell_type": "code",
   "execution_count": 18,
   "id": "34ff4770",
   "metadata": {},
   "outputs": [],
   "source": [
    "scaling = Scaling()"
   ]
  },
  {
   "cell_type": "markdown",
   "id": "0a3c7877",
   "metadata": {},
   "source": [
    "### 1. Standarisasi "
   ]
  },
  {
   "cell_type": "code",
   "execution_count": 19,
   "id": "c19a6948",
   "metadata": {},
   "outputs": [],
   "source": [
    "# data train\n",
    "feature_over,scaler = scaling.standardizeData(X_train_over[columns_feature])\n",
    "feature_under, scaler = scaling.standardizeData(X_train_under[columns_feature])\n",
    "feature_smote, scaler = scaling.standardizeData(X_train_smote[columns_feature])\n",
    "x_train, scaler = scaling.standardizeData(X_train[columns_feature])"
   ]
  },
  {
   "cell_type": "code",
   "execution_count": 20,
   "id": "9ad62d7b",
   "metadata": {},
   "outputs": [],
   "source": [
    "# concat data train\n",
    "X_train_over_stand = pd.concat([drop_over, feature_over], axis=1)\n",
    "X_train_under_stand = pd.concat([drop_under, feature_under], axis=1)\n",
    "X_train_smote_stand = pd.concat([drop_smote, feature_over], axis=1)\n",
    "X_train_stand = pd.concat([drop_train, x_train], axis=1)"
   ]
  },
  {
   "cell_type": "code",
   "execution_count": 21,
   "id": "2dcdd742",
   "metadata": {},
   "outputs": [],
   "source": [
    "# data test\n",
    "feature_smote_test, scaler = scaling.standardizeData(X_test_smote[columns_feature])"
   ]
  },
  {
   "cell_type": "code",
   "execution_count": 22,
   "id": "70ebf0ca",
   "metadata": {},
   "outputs": [],
   "source": [
    "# concat data test\n",
    "X_test_smote_stand = pd.concat([drop_smote_test, feature_smote_test], axis=1)"
   ]
  },
  {
   "cell_type": "markdown",
   "id": "d9ddbef4",
   "metadata": {},
   "source": [
    "### 2. Minmax"
   ]
  },
  {
   "cell_type": "code",
   "execution_count": 23,
   "id": "843cecd6",
   "metadata": {},
   "outputs": [],
   "source": [
    "feature_over_min,scaler = scaling.Minmax(X_train_over[columns_feature])\n",
    "feature_under_min, scaler = scaling.Minmax(X_train_under[columns_feature])\n",
    "feature_smote_min, scaler = scaling.Minmax(X_train_smote[columns_feature])\n",
    "x_train_min, scaler = scaling.Minmax(X_train[columns_feature])"
   ]
  },
  {
   "cell_type": "code",
   "execution_count": 24,
   "id": "9af38d02",
   "metadata": {},
   "outputs": [],
   "source": [
    "# concat\n",
    "X_train_over_min = pd.concat([drop_over, feature_over_min], axis=1)\n",
    "X_train_under_min = pd.concat([drop_under, feature_under_min], axis=1)\n",
    "X_train_smote_min = pd.concat([drop_smote, feature_smote_min], axis=1)\n",
    "X_train_min = pd.concat([drop_train, x_train_min], axis=1)"
   ]
  },
  {
   "cell_type": "markdown",
   "id": "01f95051",
   "metadata": {},
   "source": [
    "### 3. Normalizer "
   ]
  },
  {
   "cell_type": "code",
   "execution_count": 25,
   "id": "9724e975",
   "metadata": {},
   "outputs": [],
   "source": [
    "feature_over_norm, scaler = scaling.Normalizer(X_train_over[columns_feature])\n",
    "feature_under_norm, scaler = scaling.Normalizer(X_train_under[columns_feature])\n",
    "feature_smote_norm, scaler = scaling.Normalizer(X_train_smote[columns_feature])\n",
    "x_train_norm, scaler = scaling.Normalizer(X_train[columns_feature])"
   ]
  },
  {
   "cell_type": "code",
   "execution_count": 26,
   "id": "b3027524",
   "metadata": {},
   "outputs": [],
   "source": [
    "# concat\n",
    "X_train_over_norm = pd.concat([drop_over, feature_over_norm], axis=1)\n",
    "X_train_under_norm = pd.concat([drop_under, feature_under_norm], axis=1)\n",
    "X_train_smote_norm = pd.concat([drop_smote, feature_smote_norm], axis=1)\n",
    "X_train_norm = pd.concat([drop_train, x_train_norm], axis=1)"
   ]
  },
  {
   "cell_type": "code",
   "execution_count": 27,
   "id": "8ad47dc0",
   "metadata": {},
   "outputs": [
    {
     "data": {
      "text/plain": [
       "['D:/BOOTCAMP/project/Project Pribadi/ml churn/X_test_smote_stand.csv']"
      ]
     },
     "execution_count": 27,
     "metadata": {},
     "output_type": "execute_result"
    }
   ],
   "source": [
    "# save data X_train to joblib\n",
    "joblib.dump(X_train_over_stand,\"D:/BOOTCAMP/project/Project Pribadi/ml churn/X_train_over_stand.csv\")\n",
    "joblib.dump(X_train_under_stand,\"D:/BOOTCAMP/project/Project Pribadi/ml churn/X_train_under_stand.csv\")\n",
    "joblib.dump(X_train_smote_stand,\"D:/BOOTCAMP/project/Project Pribadi/ml churn/X_train_smote_stand.csv\")\n",
    "joblib.dump(X_train_stand,\"D:/BOOTCAMP/project/Project Pribadi/ml churn/X_train_stand.csv\")\n",
    "\n",
    "joblib.dump(X_train_over_min,\"D:/BOOTCAMP/project/Project Pribadi/ml churn/X_train_over_min.csv\")\n",
    "joblib.dump(X_train_under_min,\"D:/BOOTCAMP/project/Project Pribadi/ml churn/X_train_under_min.csv\")\n",
    "joblib.dump(X_train_smote_min,\"D:/BOOTCAMP/project/Project Pribadi/ml churn/X_train_smote_min.csv\")\n",
    "joblib.dump(X_train_min,\"D:/BOOTCAMP/project/Project Pribadi/ml churn/X_train_min.csv\")\n",
    "\n",
    "joblib.dump(X_train_over_norm,\"D:/BOOTCAMP/project/Project Pribadi/ml churn/X_train_over_norm.csv\")\n",
    "joblib.dump(X_train_under_norm,\"D:/BOOTCAMP/project/Project Pribadi/ml churn/X_train_under_norm.csv\")\n",
    "joblib.dump(X_train_smote_norm,\"D:/BOOTCAMP/project/Project Pribadi/ml churn/X_train_smote_norm.csv\")\n",
    "joblib.dump(X_train_norm,\"D:/BOOTCAMP/project/Project Pribadi/ml churn/X_train_norm.csv\")\n",
    "\n",
    "# save data X_test to joblib\n",
    "joblib.dump(X_test_smote_stand,\"D:/BOOTCAMP/project/Project Pribadi/ml churn/X_test_smote_stand.csv\")"
   ]
  },
  {
   "cell_type": "code",
   "execution_count": 28,
   "id": "fd141d70",
   "metadata": {},
   "outputs": [
    {
     "data": {
      "text/plain": [
       "['D:/BOOTCAMP/project/Project Pribadi/ml churn/y_test_smote.csv']"
      ]
     },
     "execution_count": 28,
     "metadata": {},
     "output_type": "execute_result"
    }
   ],
   "source": [
    "# save data y_train to joblib\n",
    "\n",
    "joblib.dump(y_train,\"D:/BOOTCAMP/project/Project Pribadi/ml churn/y_train.csv\")\n",
    "joblib.dump(y_train_smote,\"D:/BOOTCAMP/project/Project Pribadi/ml churn/y_train_smote.csv\")\n",
    "joblib.dump(y_train_under,\"D:/BOOTCAMP/project/Project Pribadi/ml churn/y_train_under.csv\")\n",
    "joblib.dump(y_train_over,\"D:/BOOTCAMP/project/Project Pribadi/ml churn/y_train_over.csv\")\n",
    "\n",
    "# save data y_test to joblib\n",
    "joblib.dump(y_test_smote,\"D:/BOOTCAMP/project/Project Pribadi/ml churn/y_test_smote.csv\")"
   ]
  }
 ],
 "metadata": {
  "kernelspec": {
   "display_name": "Python 3 (ipykernel)",
   "language": "python",
   "name": "python3"
  },
  "language_info": {
   "codemirror_mode": {
    "name": "ipython",
    "version": 3
   },
   "file_extension": ".py",
   "mimetype": "text/x-python",
   "name": "python",
   "nbconvert_exporter": "python",
   "pygments_lexer": "ipython3",
   "version": "3.9.13"
  }
 },
 "nbformat": 4,
 "nbformat_minor": 5
}
