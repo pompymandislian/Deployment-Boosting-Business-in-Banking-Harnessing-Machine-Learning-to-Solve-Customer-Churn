{
 "cells": [
  {
   "cell_type": "code",
   "execution_count": 1,
   "id": "7a6db780",
   "metadata": {},
   "outputs": [],
   "source": [
    "import pandas as pd\n",
    "from sklearn.model_selection import train_test_split #splitting data test and train\n",
    "import joblib\n",
    "import yaml\n",
    "import os\n",
    "from tqdm import tqdm"
   ]
  },
  {
   "cell_type": "code",
   "execution_count": 2,
   "id": "fa965192",
   "metadata": {},
   "outputs": [],
   "source": [
    "params_dir = \"config/Churn_.yaml\""
   ]
  },
  {
   "cell_type": "code",
   "execution_count": 3,
   "id": "99bda4c0",
   "metadata": {},
   "outputs": [],
   "source": [
    "def load_params(param_dir):\n",
    "    with open(param_dir, 'r') as file:\n",
    "        params = yaml.safe_load(file)\n",
    "        \n",
    "    return params"
   ]
  },
  {
   "cell_type": "code",
   "execution_count": 4,
   "id": "203a8aba",
   "metadata": {},
   "outputs": [],
   "source": [
    "params = load_params(params_dir)"
   ]
  },
  {
   "cell_type": "markdown",
   "id": "697e0c21",
   "metadata": {},
   "source": [
    "# 1. Data Collecting"
   ]
  },
  {
   "cell_type": "code",
   "execution_count": 5,
   "id": "bbbe4838",
   "metadata": {},
   "outputs": [],
   "source": [
    "# read file and marge data\n",
    "def read_dataset(dataset_dir):\n",
    "    dataset = pd.DataFrame()\n",
    "\n",
    "    for i in tqdm(os.listdir(dataset_dir)):\n",
    "        dataset = pd.concat([pd.read_excel(dataset_dir + i), dataset])\n",
    "    \n",
    "    return dataset"
   ]
  },
  {
   "cell_type": "code",
   "execution_count": 6,
   "id": "c7ee6fd0",
   "metadata": {},
   "outputs": [
    {
     "name": "stderr",
     "output_type": "stream",
     "text": [
      "100%|████████████████████████████████████████████████████████████████████████████████████| 1/1 [00:03<00:00,  3.09s/it]\n"
     ]
    }
   ],
   "source": [
    "# read dataset\n",
    "df = read_dataset(params[\"dataset_dir\"])"
   ]
  },
  {
   "cell_type": "code",
   "execution_count": 7,
   "id": "4fcbddfa",
   "metadata": {},
   "outputs": [],
   "source": [
    "# drop columns\n",
    "\n",
    "df = df.drop(['customer_id','products_number'], axis=1)"
   ]
  },
  {
   "cell_type": "code",
   "execution_count": 8,
   "id": "0da45155",
   "metadata": {},
   "outputs": [
    {
     "data": {
      "text/html": [
       "<div>\n",
       "<style scoped>\n",
       "    .dataframe tbody tr th:only-of-type {\n",
       "        vertical-align: middle;\n",
       "    }\n",
       "\n",
       "    .dataframe tbody tr th {\n",
       "        vertical-align: top;\n",
       "    }\n",
       "\n",
       "    .dataframe thead th {\n",
       "        text-align: right;\n",
       "    }\n",
       "</style>\n",
       "<table border=\"1\" class=\"dataframe\">\n",
       "  <thead>\n",
       "    <tr style=\"text-align: right;\">\n",
       "      <th></th>\n",
       "      <th>credit_score</th>\n",
       "      <th>country</th>\n",
       "      <th>gender</th>\n",
       "      <th>age</th>\n",
       "      <th>tenure</th>\n",
       "      <th>balance</th>\n",
       "      <th>credit_card</th>\n",
       "      <th>active_member</th>\n",
       "      <th>estimated_salary</th>\n",
       "      <th>churn</th>\n",
       "    </tr>\n",
       "  </thead>\n",
       "  <tbody>\n",
       "    <tr>\n",
       "      <th>0</th>\n",
       "      <td>619</td>\n",
       "      <td>France</td>\n",
       "      <td>Female</td>\n",
       "      <td>42</td>\n",
       "      <td>2</td>\n",
       "      <td>0.00</td>\n",
       "      <td>1</td>\n",
       "      <td>1</td>\n",
       "      <td>101348.88</td>\n",
       "      <td>1</td>\n",
       "    </tr>\n",
       "    <tr>\n",
       "      <th>1</th>\n",
       "      <td>608</td>\n",
       "      <td>Spain</td>\n",
       "      <td>Female</td>\n",
       "      <td>41</td>\n",
       "      <td>1</td>\n",
       "      <td>83807.86</td>\n",
       "      <td>0</td>\n",
       "      <td>1</td>\n",
       "      <td>112542.58</td>\n",
       "      <td>0</td>\n",
       "    </tr>\n",
       "    <tr>\n",
       "      <th>2</th>\n",
       "      <td>502</td>\n",
       "      <td>France</td>\n",
       "      <td>Female</td>\n",
       "      <td>42</td>\n",
       "      <td>8</td>\n",
       "      <td>159660.80</td>\n",
       "      <td>1</td>\n",
       "      <td>0</td>\n",
       "      <td>113931.57</td>\n",
       "      <td>1</td>\n",
       "    </tr>\n",
       "    <tr>\n",
       "      <th>3</th>\n",
       "      <td>699</td>\n",
       "      <td>France</td>\n",
       "      <td>Female</td>\n",
       "      <td>39</td>\n",
       "      <td>1</td>\n",
       "      <td>0.00</td>\n",
       "      <td>0</td>\n",
       "      <td>0</td>\n",
       "      <td>93826.63</td>\n",
       "      <td>0</td>\n",
       "    </tr>\n",
       "    <tr>\n",
       "      <th>4</th>\n",
       "      <td>850</td>\n",
       "      <td>Spain</td>\n",
       "      <td>Female</td>\n",
       "      <td>43</td>\n",
       "      <td>2</td>\n",
       "      <td>125510.82</td>\n",
       "      <td>1</td>\n",
       "      <td>1</td>\n",
       "      <td>79084.10</td>\n",
       "      <td>0</td>\n",
       "    </tr>\n",
       "    <tr>\n",
       "      <th>...</th>\n",
       "      <td>...</td>\n",
       "      <td>...</td>\n",
       "      <td>...</td>\n",
       "      <td>...</td>\n",
       "      <td>...</td>\n",
       "      <td>...</td>\n",
       "      <td>...</td>\n",
       "      <td>...</td>\n",
       "      <td>...</td>\n",
       "      <td>...</td>\n",
       "    </tr>\n",
       "    <tr>\n",
       "      <th>9995</th>\n",
       "      <td>771</td>\n",
       "      <td>France</td>\n",
       "      <td>Male</td>\n",
       "      <td>39</td>\n",
       "      <td>5</td>\n",
       "      <td>0.00</td>\n",
       "      <td>1</td>\n",
       "      <td>0</td>\n",
       "      <td>96270.64</td>\n",
       "      <td>0</td>\n",
       "    </tr>\n",
       "    <tr>\n",
       "      <th>9996</th>\n",
       "      <td>516</td>\n",
       "      <td>France</td>\n",
       "      <td>Male</td>\n",
       "      <td>35</td>\n",
       "      <td>10</td>\n",
       "      <td>57369.61</td>\n",
       "      <td>1</td>\n",
       "      <td>1</td>\n",
       "      <td>101699.77</td>\n",
       "      <td>0</td>\n",
       "    </tr>\n",
       "    <tr>\n",
       "      <th>9997</th>\n",
       "      <td>709</td>\n",
       "      <td>France</td>\n",
       "      <td>Female</td>\n",
       "      <td>36</td>\n",
       "      <td>7</td>\n",
       "      <td>0.00</td>\n",
       "      <td>0</td>\n",
       "      <td>1</td>\n",
       "      <td>42085.58</td>\n",
       "      <td>1</td>\n",
       "    </tr>\n",
       "    <tr>\n",
       "      <th>9998</th>\n",
       "      <td>772</td>\n",
       "      <td>Germany</td>\n",
       "      <td>Male</td>\n",
       "      <td>42</td>\n",
       "      <td>3</td>\n",
       "      <td>75075.31</td>\n",
       "      <td>1</td>\n",
       "      <td>0</td>\n",
       "      <td>92888.52</td>\n",
       "      <td>1</td>\n",
       "    </tr>\n",
       "    <tr>\n",
       "      <th>9999</th>\n",
       "      <td>792</td>\n",
       "      <td>France</td>\n",
       "      <td>Female</td>\n",
       "      <td>28</td>\n",
       "      <td>4</td>\n",
       "      <td>130142.79</td>\n",
       "      <td>1</td>\n",
       "      <td>0</td>\n",
       "      <td>38190.78</td>\n",
       "      <td>0</td>\n",
       "    </tr>\n",
       "  </tbody>\n",
       "</table>\n",
       "<p>10000 rows × 10 columns</p>\n",
       "</div>"
      ],
      "text/plain": [
       "      credit_score  country  gender  age  tenure    balance  credit_card  \\\n",
       "0              619   France  Female   42       2       0.00            1   \n",
       "1              608    Spain  Female   41       1   83807.86            0   \n",
       "2              502   France  Female   42       8  159660.80            1   \n",
       "3              699   France  Female   39       1       0.00            0   \n",
       "4              850    Spain  Female   43       2  125510.82            1   \n",
       "...            ...      ...     ...  ...     ...        ...          ...   \n",
       "9995           771   France    Male   39       5       0.00            1   \n",
       "9996           516   France    Male   35      10   57369.61            1   \n",
       "9997           709   France  Female   36       7       0.00            0   \n",
       "9998           772  Germany    Male   42       3   75075.31            1   \n",
       "9999           792   France  Female   28       4  130142.79            1   \n",
       "\n",
       "      active_member  estimated_salary  churn  \n",
       "0                 1         101348.88      1  \n",
       "1                 1         112542.58      0  \n",
       "2                 0         113931.57      1  \n",
       "3                 0          93826.63      0  \n",
       "4                 1          79084.10      0  \n",
       "...             ...               ...    ...  \n",
       "9995              0          96270.64      0  \n",
       "9996              1         101699.77      0  \n",
       "9997              1          42085.58      1  \n",
       "9998              0          92888.52      1  \n",
       "9999              0          38190.78      0  \n",
       "\n",
       "[10000 rows x 10 columns]"
      ]
     },
     "execution_count": 8,
     "metadata": {},
     "output_type": "execute_result"
    }
   ],
   "source": [
    "df"
   ]
  },
  {
   "cell_type": "markdown",
   "id": "d571d383",
   "metadata": {},
   "source": [
    "# 2. Data Definition"
   ]
  },
  {
   "cell_type": "raw",
   "id": "cbadadef",
   "metadata": {},
   "source": [
    "Credit Score : \n",
    "                [int64] \n",
    "                [350 - 850]\n",
    "                - Score how well a person pays debts\n",
    "                \n",
    "balance : \n",
    "                [float64] \n",
    "                [3768.69 - 250898.09]\n",
    "                - Income each months from customers.\n",
    "\n",
    "estimated_salary : \n",
    "                [float64] \n",
    "                [11.58 - 199970.74]\n",
    "                - Estimation income from customers.\n",
    "\n",
    "credit_card : \n",
    "                [int64] \n",
    "                [0 - 1]\n",
    "                - Have a creadit or not.\n",
    "                \n",
    "active_member :\n",
    "                [int64] \n",
    "                [0 - 1]\n",
    "                - Have a active member in bank or not.\n",
    "                \n",
    "tenure :\n",
    "                [int64] \n",
    "                [0 - 10]\n",
    "                - level of security or stability in work.\n",
    "                \n",
    "Churn :      \n",
    "                [int64] \n",
    "                [0 - 1]\n",
    "                - Customers who are make churn.\n",
    "\n",
    "gender :      \n",
    "                [object] \n",
    "                [male] [Female]\n",
    "                - Male or Female.\n",
    "                \n",
    "country :      \n",
    "                [object] \n",
    "                [Spain] [Germany] [France]\n",
    "                - : Place of customer country.\n",
    "                \n",
    "Age :      \n",
    "                [int64] \n",
    "                [18 - 92]\n",
    "                - : Place of customer country.                "
   ]
  },
  {
   "cell_type": "markdown",
   "id": "09e33336",
   "metadata": {},
   "source": [
    "# 3. Data Validation"
   ]
  },
  {
   "cell_type": "code",
   "execution_count": 9,
   "id": "115d4433",
   "metadata": {},
   "outputs": [
    {
     "data": {
      "text/plain": [
       "credit_score        0\n",
       "country             0\n",
       "gender              0\n",
       "age                 0\n",
       "tenure              0\n",
       "balance             0\n",
       "credit_card         0\n",
       "active_member       0\n",
       "estimated_salary    0\n",
       "churn               0\n",
       "dtype: int64"
      ]
     },
     "execution_count": 9,
     "metadata": {},
     "output_type": "execute_result"
    }
   ],
   "source": [
    "# check missing nulls\n",
    "df.isnull().sum()"
   ]
  },
  {
   "cell_type": "code",
   "execution_count": 10,
   "id": "7887dcbd",
   "metadata": {},
   "outputs": [
    {
     "data": {
      "text/plain": [
       "0"
      ]
     },
     "execution_count": 10,
     "metadata": {},
     "output_type": "execute_result"
    }
   ],
   "source": [
    "# check duplicate\n",
    "df.duplicated().sum()"
   ]
  },
  {
   "cell_type": "code",
   "execution_count": 11,
   "id": "e56efc14",
   "metadata": {},
   "outputs": [],
   "source": [
    "# drop zeroes balance\n",
    "df = df[df['balance'] != 0]"
   ]
  },
  {
   "cell_type": "code",
   "execution_count": 12,
   "id": "6dd593c6",
   "metadata": {},
   "outputs": [
    {
     "data": {
      "text/plain": [
       "credit_score          int64\n",
       "country              object\n",
       "gender               object\n",
       "age                   int64\n",
       "tenure                int64\n",
       "balance             float64\n",
       "credit_card           int64\n",
       "active_member         int64\n",
       "estimated_salary    float64\n",
       "churn                 int64\n",
       "dtype: object"
      ]
     },
     "execution_count": 12,
     "metadata": {},
     "output_type": "execute_result"
    }
   ],
   "source": [
    "# check dtypes\n",
    "df.dtypes"
   ]
  },
  {
   "cell_type": "code",
   "execution_count": 13,
   "id": "6759db5d",
   "metadata": {},
   "outputs": [
    {
     "name": "stderr",
     "output_type": "stream",
     "text": [
      "C:\\Users\\HP Notebook\\AppData\\Local\\Temp\\ipykernel_12068\\1772077433.py:8: SettingWithCopyWarning: \n",
      "A value is trying to be set on a copy of a slice from a DataFrame.\n",
      "Try using .loc[row_indexer,col_indexer] = value instead\n",
      "\n",
      "See the caveats in the documentation: https://pandas.pydata.org/pandas-docs/stable/user_guide/indexing.html#returning-a-view-versus-a-copy\n",
      "  df['Age'] = pd.cut(df['age'], bins, labels=labels).astype('object')\n"
     ]
    }
   ],
   "source": [
    "# Menentukan batasan bin\n",
    "bins = [15, 30, 60, 100]\n",
    "\n",
    "# Menentukan nilai angka untuk masing-masing bin\n",
    "labels = ['young', 'mature', 'old']\n",
    "\n",
    "# Membuat kolom baru untuk menampung hasil binning\n",
    "df['Age'] = pd.cut(df['age'], bins, labels=labels).astype('object')"
   ]
  },
  {
   "cell_type": "code",
   "execution_count": 14,
   "id": "be453683",
   "metadata": {},
   "outputs": [
    {
     "data": {
      "text/plain": [
       "0"
      ]
     },
     "execution_count": 14,
     "metadata": {},
     "output_type": "execute_result"
    }
   ],
   "source": [
    "# check missing nulls after binning\n",
    "df.Age.isnull().sum()"
   ]
  },
  {
   "cell_type": "code",
   "execution_count": 15,
   "id": "eb91912a",
   "metadata": {},
   "outputs": [],
   "source": [
    "# drop columns after binning\n",
    "\n",
    "df = df.drop('age', axis=1)"
   ]
  },
  {
   "cell_type": "code",
   "execution_count": 16,
   "id": "814e98bd",
   "metadata": {},
   "outputs": [
    {
     "data": {
      "text/plain": [
       "credit_score          int64\n",
       "country              object\n",
       "gender               object\n",
       "tenure                int64\n",
       "balance             float64\n",
       "credit_card           int64\n",
       "active_member         int64\n",
       "estimated_salary    float64\n",
       "churn                 int64\n",
       "Age                  object\n",
       "dtype: object"
      ]
     },
     "execution_count": 16,
     "metadata": {},
     "output_type": "execute_result"
    }
   ],
   "source": [
    "df.dtypes"
   ]
  },
  {
   "cell_type": "code",
   "execution_count": 17,
   "id": "6d43f0f2",
   "metadata": {},
   "outputs": [],
   "source": [
    "# make function separate input, output\n",
    "def SeparateOutputInput(data,\n",
    "                       output_column_name):\n",
    "    \"\"\"\n",
    "    The Function for separate data input and output\n",
    "    input data for target/output and the drop or separate\n",
    "    make new variable for input and output data\n",
    "    \"\"\"\n",
    "    \n",
    "    output_data = data[output_column_name]\n",
    "    input_data = data.drop(output_column_name,\n",
    "                           axis = 1)\n",
    "    \n",
    "    return input_data, output_data"
   ]
  },
  {
   "cell_type": "code",
   "execution_count": 18,
   "id": "1089f707",
   "metadata": {},
   "outputs": [],
   "source": [
    "# call function\n",
    "X, y = SeparateOutputInput(data = df,\n",
    "                          output_column_name = \"churn\")"
   ]
  },
  {
   "cell_type": "markdown",
   "id": "19717d30",
   "metadata": {},
   "source": [
    "# 4. Data Defense"
   ]
  },
  {
   "cell_type": "code",
   "execution_count": 19,
   "id": "4ba54007",
   "metadata": {},
   "outputs": [],
   "source": [
    "def check_data(input_data, params):\n",
    "    # check data types\n",
    "    assert input_data.select_dtypes(\"object\").columns.to_list() == params[\"object_columns\"], \"an error occurs in object column(s).\"\n",
    "    assert input_data.select_dtypes(\"int64\").columns.to_list() == params[\"int_columns\"], \"an error occurs in int64 column(s).\"\n",
    "    assert input_data.select_dtypes(\"float64\").columns.to_list() == params[\"float_columns\"], \"an error occurs in float64 column(s).\"\n",
    "    \n",
    "    # check range of data\n",
    "    assert input_data.balance.between(params[\"range_balance\"][0], params[\"range_balance\"][1]).sum() == len(input_data), \"an error occurs in balance range.\"\n",
    "    assert input_data.credit_score.between(params[\"range_credit_score\"][0], params[\"range_credit_score\"][1]).sum() == len(input_data), \"an error occurs in credit_score range.\"\n",
    "    assert input_data.tenure.between(params[\"range_tenure\"][0], params[\"range_tenure\"][1]).sum() == len(input_data), \"an error occurs in tenure range.\"\n",
    "    assert input_data.estimated_salary.between(params[\"range_estimated_salary\"][0], params[\"range_estimated_salary\"][1]).sum() == len(input_data), \"an error occurs estimated_salary range.\""
   ]
  },
  {
   "cell_type": "code",
   "execution_count": 20,
   "id": "381a2bde",
   "metadata": {},
   "outputs": [],
   "source": [
    "# check data\n",
    "check_data(df, params)"
   ]
  },
  {
   "cell_type": "markdown",
   "id": "e14b3aa5",
   "metadata": {},
   "source": [
    "# 5. Data Spliting"
   ]
  },
  {
   "cell_type": "code",
   "execution_count": 21,
   "id": "36f50d7f",
   "metadata": {},
   "outputs": [
    {
     "name": "stdout",
     "output_type": "stream",
     "text": [
      "(5106, 9)\n",
      "(5106,)\n",
      "(1277, 9)\n",
      "(1277,)\n"
     ]
    }
   ],
   "source": [
    "# Train test split\n",
    "X_train, X_test, y_train, y_test = train_test_split(X, y,\n",
    "                                                    test_size = 0.2,\n",
    "                                                    random_state = 123, stratify=y)\n",
    "# print shape\n",
    "print(X_train.shape)\n",
    "print(y_train.shape)\n",
    "print(X_test.shape)\n",
    "print(y_test.shape)"
   ]
  },
  {
   "cell_type": "code",
   "execution_count": 22,
   "id": "fb973099",
   "metadata": {},
   "outputs": [
    {
     "data": {
      "text/plain": [
       "['D:/BOOTCAMP/project/Project Pribadi/ml churn/data.csv']"
      ]
     },
     "execution_count": 22,
     "metadata": {},
     "output_type": "execute_result"
    }
   ],
   "source": [
    "# save data\n",
    "joblib.dump(X_train,\"D:/BOOTCAMP/project/Project Pribadi/ml churn/X_train.csv\")\n",
    "joblib.dump(y_train,\"D:/BOOTCAMP/project/Project Pribadi/ml churn/y_train.csv\")\n",
    "joblib.dump(X_test,\"D:/BOOTCAMP/project/Project Pribadi/ml churn/X_test.csv\")\n",
    "joblib.dump(y_test,\"D:/BOOTCAMP/project/Project Pribadi/ml churn/y_test.csv\")\n",
    "joblib.dump(df,\"D:/BOOTCAMP/project/Project Pribadi/ml churn/data.csv\")"
   ]
  }
 ],
 "metadata": {
  "kernelspec": {
   "display_name": "Python 3 (ipykernel)",
   "language": "python",
   "name": "python3"
  },
  "language_info": {
   "codemirror_mode": {
    "name": "ipython",
    "version": 3
   },
   "file_extension": ".py",
   "mimetype": "text/x-python",
   "name": "python",
   "nbconvert_exporter": "python",
   "pygments_lexer": "ipython3",
   "version": "3.9.13"
  }
 },
 "nbformat": 4,
 "nbformat_minor": 5
}
