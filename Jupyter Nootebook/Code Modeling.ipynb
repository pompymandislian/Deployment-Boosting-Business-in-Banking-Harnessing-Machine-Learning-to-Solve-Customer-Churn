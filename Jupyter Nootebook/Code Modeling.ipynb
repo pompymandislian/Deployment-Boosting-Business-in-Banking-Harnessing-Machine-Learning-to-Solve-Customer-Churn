{
 "cells": [
  {
   "cell_type": "code",
   "execution_count": 1,
   "id": "c80f158f",
   "metadata": {},
   "outputs": [],
   "source": [
    "import joblib\n",
    "import pickle\n",
    "import pandas as pd\n",
    "import numpy as np\n",
    "import matplotlib.pyplot as plt\n",
    "from sklearn.model_selection import train_test_split \n",
    "from Baseline_model import Baseline\n",
    "from basic_model import simple_model_classification\n",
    "from sklearn.neighbors import KNeighborsClassifier\n",
    "from sklearn.metrics import roc_auc_score, confusion_matrix\n",
    "from sklearn.metrics import accuracy_score, recall_score, precision_score, f1_score, confusion_matrix,log_loss\n",
    "from sklearn.tree import DecisionTreeClassifier\n",
    "from sklearn.svm import SVC\n",
    "from sklearn.ensemble import RandomForestClassifier\n",
    "from sklearn.ensemble import AdaBoostClassifier\n",
    "from sklearn.naive_bayes import GaussianNB\n",
    "from xgboost import XGBClassifier\n",
    "from feature_data import Scaling, Transform, Reduction, imbalance\n",
    "from sklearn.model_selection import cross_val_score, KFold, RepeatedKFold, StratifiedKFold, StratifiedShuffleSplit, GridSearchCV"
   ]
  },
  {
   "cell_type": "code",
   "execution_count": 2,
   "id": "1fac81b3",
   "metadata": {},
   "outputs": [],
   "source": [
    "# load data X_train from joblib\n",
    "X_train_over_stand = joblib.load(\"D:/BOOTCAMP/project/Project Pribadi/ml churn/X_train_over_stand.csv\")\n",
    "X_train_under_stand = joblib.load(\"D:/BOOTCAMP/project/Project Pribadi/ml churn/X_train_under_stand.csv\")\n",
    "X_train_smote_stand = joblib.load(\"D:/BOOTCAMP/project/Project Pribadi/ml churn/X_train_smote_stand.csv\")\n",
    "X_train_stand = joblib.load(\"D:/BOOTCAMP/project/Project Pribadi/ml churn/X_train_stand.csv\")\n",
    "\n",
    "X_train_over_min = joblib.load(\"D:/BOOTCAMP/project/Project Pribadi/ml churn/X_train_over_min.csv\")\n",
    "X_train_under_min = joblib.load(\"D:/BOOTCAMP/project/Project Pribadi/ml churn/X_train_under_min.csv\")\n",
    "X_train_smote_min = joblib.load(\"D:/BOOTCAMP/project/Project Pribadi/ml churn/X_train_smote_min.csv\")\n",
    "X_train_min = joblib.load(\"D:/BOOTCAMP/project/Project Pribadi/ml churn/X_train_min.csv\")\n",
    "\n",
    "X_train_over_norm = joblib.load(\"D:/BOOTCAMP/project/Project Pribadi/ml churn/X_train_over_norm.csv\")\n",
    "X_train_under_norm = joblib.load(\"D:/BOOTCAMP/project/Project Pribadi/ml churn/X_train_under_norm.csv\")\n",
    "X_train_smote_norm = joblib.load(\"D:/BOOTCAMP/project/Project Pribadi/ml churn/X_train_smote_norm.csv\")\n",
    "X_train_norm = joblib.load(\"D:/BOOTCAMP/project/Project Pribadi/ml churn/X_train_norm.csv\")\n",
    "\n",
    "# load data X_test from joblib\n",
    "X_test_smote_stand = joblib.load(\"D:/BOOTCAMP/project/Project Pribadi/ml churn/X_test_smote_stand.csv\")\n",
    "\n",
    "# load data y_train\n",
    "y_train = joblib.load(\"D:/BOOTCAMP/project/Project Pribadi/ml churn/y_train.csv\")\n",
    "y_train_smote = joblib.load(\"D:/BOOTCAMP/project/Project Pribadi/ml churn/y_train_smote.csv\")\n",
    "y_train_under = joblib.load(\"D:/BOOTCAMP/project/Project Pribadi/ml churn/y_train_under.csv\")\n",
    "y_train_over = joblib.load(\"D:/BOOTCAMP/project/Project Pribadi/ml churn/y_train_over.csv\")\n",
    "\n",
    "\n",
    "# load data y_test\n",
    "y_test_smote = joblib.load(\"D:/BOOTCAMP/project/Project Pribadi/ml churn/y_test_smote.csv\")"
   ]
  },
  {
   "cell_type": "markdown",
   "id": "f115c7dc",
   "metadata": {},
   "source": [
    "# Modeling"
   ]
  },
  {
   "cell_type": "markdown",
   "id": "efbea9dc",
   "metadata": {},
   "source": [
    "### Baseline Frekuensi"
   ]
  },
  {
   "cell_type": "code",
   "execution_count": 3,
   "id": "c39f6fbb",
   "metadata": {},
   "outputs": [],
   "source": [
    "X_train_base = joblib.load(\"D:/BOOTCAMP/project/Project Pribadi/ml churn/X_train.csv\")\n",
    "y_train_base = joblib.load(\"D:/BOOTCAMP/project/Project Pribadi/ml churn/y_train.csv\")"
   ]
  },
  {
   "cell_type": "code",
   "execution_count": 4,
   "id": "b3641f11",
   "metadata": {},
   "outputs": [
    {
     "data": {
      "text/plain": [
       "0    0.759107\n",
       "1    0.240893\n",
       "Name: churn, dtype: float64"
      ]
     },
     "execution_count": 4,
     "metadata": {},
     "output_type": "execute_result"
    }
   ],
   "source": [
    "y_train_base.value_counts(normalize = True)"
   ]
  },
  {
   "cell_type": "markdown",
   "id": "bbce34a2",
   "metadata": {},
   "source": [
    "### Baseline Dummy Classifier "
   ]
  },
  {
   "cell_type": "code",
   "execution_count": 5,
   "id": "8d5a949d",
   "metadata": {},
   "outputs": [
    {
     "data": {
      "text/plain": [
       "{'accuracy': 0.6308264786525656,\n",
       " 'recall': 0.23414634146341465,\n",
       " 'precision': 0.23395613322502032,\n",
       " 'f1_score': 0.23405119869971558,\n",
       " 'roc_auc': 0.495427143899922,\n",
       " 'fn': 942,\n",
       " 'fp': 943,\n",
       " 'tn': 2933,\n",
       " 'tp': 288}"
      ]
     },
     "execution_count": 5,
     "metadata": {},
     "output_type": "execute_result"
    }
   ],
   "source": [
    "# call baseline\n",
    "baseline = Baseline()\n",
    "classification = baseline.print_binary_evaluation(X_train_base,y_train_base, 'stratified')\n",
    "classification"
   ]
  },
  {
   "cell_type": "markdown",
   "id": "20afbbf9",
   "metadata": {},
   "source": [
    "# Simple Model"
   ]
  },
  {
   "cell_type": "code",
   "execution_count": 6,
   "id": "80a693d2",
   "metadata": {},
   "outputs": [],
   "source": [
    "simple_mod = simple_model_classification()"
   ]
  },
  {
   "cell_type": "markdown",
   "id": "35234e07",
   "metadata": {},
   "source": [
    "### 1. Model KNN "
   ]
  },
  {
   "cell_type": "code",
   "execution_count": 7,
   "id": "d64c8baa",
   "metadata": {},
   "outputs": [
    {
     "name": "stderr",
     "output_type": "stream",
     "text": [
      "C:\\Users\\HP Notebook\\anaconda3\\lib\\site-packages\\sklearn\\neighbors\\_classification.py:228: FutureWarning: Unlike other reduction functions (e.g. `skew`, `kurtosis`), the default behavior of `mode` typically preserves the axis it acts along. In SciPy 1.11.0, this behavior will change: the default value of `keepdims` will become False, the `axis` over which the statistic is taken will be eliminated, and the value None will no longer be accepted. Set `keepdims` to True or False to avoid this warning.\n",
      "  mode, _ = stats.mode(_y[neigh_ind, k], axis=1)\n",
      "C:\\Users\\HP Notebook\\anaconda3\\lib\\site-packages\\sklearn\\neighbors\\_classification.py:228: FutureWarning: Unlike other reduction functions (e.g. `skew`, `kurtosis`), the default behavior of `mode` typically preserves the axis it acts along. In SciPy 1.11.0, this behavior will change: the default value of `keepdims` will become False, the `axis` over which the statistic is taken will be eliminated, and the value None will no longer be accepted. Set `keepdims` to True or False to avoid this warning.\n",
      "  mode, _ = stats.mode(_y[neigh_ind, k], axis=1)\n",
      "C:\\Users\\HP Notebook\\anaconda3\\lib\\site-packages\\sklearn\\neighbors\\_classification.py:228: FutureWarning: Unlike other reduction functions (e.g. `skew`, `kurtosis`), the default behavior of `mode` typically preserves the axis it acts along. In SciPy 1.11.0, this behavior will change: the default value of `keepdims` will become False, the `axis` over which the statistic is taken will be eliminated, and the value None will no longer be accepted. Set `keepdims` to True or False to avoid this warning.\n",
      "  mode, _ = stats.mode(_y[neigh_ind, k], axis=1)\n",
      "C:\\Users\\HP Notebook\\anaconda3\\lib\\site-packages\\sklearn\\neighbors\\_classification.py:228: FutureWarning: Unlike other reduction functions (e.g. `skew`, `kurtosis`), the default behavior of `mode` typically preserves the axis it acts along. In SciPy 1.11.0, this behavior will change: the default value of `keepdims` will become False, the `axis` over which the statistic is taken will be eliminated, and the value None will no longer be accepted. Set `keepdims` to True or False to avoid this warning.\n",
      "  mode, _ = stats.mode(_y[neigh_ind, k], axis=1)\n"
     ]
    }
   ],
   "source": [
    "# scaling standart\n",
    "knn_over_stand = simple_mod.Knn_model(X_train_over_stand, y_train_over, 3) # best\n",
    "knn_under_stand = simple_mod.Knn_model(X_train_under_stand, y_train_under, 3) \n",
    "knn_smote_stand = simple_mod.Knn_model(X_train_smote_stand, y_train_smote, 3) \n",
    "knn_stand = simple_mod.Knn_model(X_train_stand, y_train, 3) "
   ]
  },
  {
   "cell_type": "code",
   "execution_count": 8,
   "id": "db9fa461",
   "metadata": {},
   "outputs": [
    {
     "name": "stderr",
     "output_type": "stream",
     "text": [
      "C:\\Users\\HP Notebook\\anaconda3\\lib\\site-packages\\sklearn\\neighbors\\_classification.py:228: FutureWarning: Unlike other reduction functions (e.g. `skew`, `kurtosis`), the default behavior of `mode` typically preserves the axis it acts along. In SciPy 1.11.0, this behavior will change: the default value of `keepdims` will become False, the `axis` over which the statistic is taken will be eliminated, and the value None will no longer be accepted. Set `keepdims` to True or False to avoid this warning.\n",
      "  mode, _ = stats.mode(_y[neigh_ind, k], axis=1)\n",
      "C:\\Users\\HP Notebook\\anaconda3\\lib\\site-packages\\sklearn\\neighbors\\_classification.py:228: FutureWarning: Unlike other reduction functions (e.g. `skew`, `kurtosis`), the default behavior of `mode` typically preserves the axis it acts along. In SciPy 1.11.0, this behavior will change: the default value of `keepdims` will become False, the `axis` over which the statistic is taken will be eliminated, and the value None will no longer be accepted. Set `keepdims` to True or False to avoid this warning.\n",
      "  mode, _ = stats.mode(_y[neigh_ind, k], axis=1)\n",
      "C:\\Users\\HP Notebook\\anaconda3\\lib\\site-packages\\sklearn\\neighbors\\_classification.py:228: FutureWarning: Unlike other reduction functions (e.g. `skew`, `kurtosis`), the default behavior of `mode` typically preserves the axis it acts along. In SciPy 1.11.0, this behavior will change: the default value of `keepdims` will become False, the `axis` over which the statistic is taken will be eliminated, and the value None will no longer be accepted. Set `keepdims` to True or False to avoid this warning.\n",
      "  mode, _ = stats.mode(_y[neigh_ind, k], axis=1)\n",
      "C:\\Users\\HP Notebook\\anaconda3\\lib\\site-packages\\sklearn\\neighbors\\_classification.py:228: FutureWarning: Unlike other reduction functions (e.g. `skew`, `kurtosis`), the default behavior of `mode` typically preserves the axis it acts along. In SciPy 1.11.0, this behavior will change: the default value of `keepdims` will become False, the `axis` over which the statistic is taken will be eliminated, and the value None will no longer be accepted. Set `keepdims` to True or False to avoid this warning.\n",
      "  mode, _ = stats.mode(_y[neigh_ind, k], axis=1)\n"
     ]
    }
   ],
   "source": [
    "# scaling minmax\n",
    "knn_over_min = simple_mod.Knn_model(X_train_over_min, y_train_over, 3) #best\n",
    "knn_under_min = simple_mod.Knn_model(X_train_under_min, y_train_under, 3) \n",
    "knn_smote_min = simple_mod.Knn_model(X_train_smote_min, y_train_smote, 3) \n",
    "knn_min = simple_mod.Knn_model(X_train_min, y_train, 3) "
   ]
  },
  {
   "cell_type": "code",
   "execution_count": 9,
   "id": "99975286",
   "metadata": {},
   "outputs": [
    {
     "name": "stderr",
     "output_type": "stream",
     "text": [
      "C:\\Users\\HP Notebook\\anaconda3\\lib\\site-packages\\sklearn\\neighbors\\_classification.py:228: FutureWarning: Unlike other reduction functions (e.g. `skew`, `kurtosis`), the default behavior of `mode` typically preserves the axis it acts along. In SciPy 1.11.0, this behavior will change: the default value of `keepdims` will become False, the `axis` over which the statistic is taken will be eliminated, and the value None will no longer be accepted. Set `keepdims` to True or False to avoid this warning.\n",
      "  mode, _ = stats.mode(_y[neigh_ind, k], axis=1)\n",
      "C:\\Users\\HP Notebook\\anaconda3\\lib\\site-packages\\sklearn\\neighbors\\_classification.py:228: FutureWarning: Unlike other reduction functions (e.g. `skew`, `kurtosis`), the default behavior of `mode` typically preserves the axis it acts along. In SciPy 1.11.0, this behavior will change: the default value of `keepdims` will become False, the `axis` over which the statistic is taken will be eliminated, and the value None will no longer be accepted. Set `keepdims` to True or False to avoid this warning.\n",
      "  mode, _ = stats.mode(_y[neigh_ind, k], axis=1)\n",
      "C:\\Users\\HP Notebook\\anaconda3\\lib\\site-packages\\sklearn\\neighbors\\_classification.py:228: FutureWarning: Unlike other reduction functions (e.g. `skew`, `kurtosis`), the default behavior of `mode` typically preserves the axis it acts along. In SciPy 1.11.0, this behavior will change: the default value of `keepdims` will become False, the `axis` over which the statistic is taken will be eliminated, and the value None will no longer be accepted. Set `keepdims` to True or False to avoid this warning.\n",
      "  mode, _ = stats.mode(_y[neigh_ind, k], axis=1)\n",
      "C:\\Users\\HP Notebook\\anaconda3\\lib\\site-packages\\sklearn\\neighbors\\_classification.py:228: FutureWarning: Unlike other reduction functions (e.g. `skew`, `kurtosis`), the default behavior of `mode` typically preserves the axis it acts along. In SciPy 1.11.0, this behavior will change: the default value of `keepdims` will become False, the `axis` over which the statistic is taken will be eliminated, and the value None will no longer be accepted. Set `keepdims` to True or False to avoid this warning.\n",
      "  mode, _ = stats.mode(_y[neigh_ind, k], axis=1)\n"
     ]
    }
   ],
   "source": [
    "# scaling normal\n",
    "knn_over_norm = simple_mod.Knn_model(X_train_over_norm, y_train_over, 3) # best\n",
    "knn_under_norm = simple_mod.Knn_model(X_train_under_norm, y_train_under, 3) \n",
    "knn_smote_norm = simple_mod.Knn_model(X_train_smote_norm, y_train_smote, 3) \n",
    "knn_norm = simple_mod.Knn_model(X_train_norm, y_train, 3) "
   ]
  },
  {
   "cell_type": "code",
   "execution_count": 10,
   "id": "1fc440f8",
   "metadata": {},
   "outputs": [],
   "source": [
    "# hyper parameter KNN model\n",
    "def Knn_model(X_train, y_train, n_neighbors):\n",
    "    # create KNN model\n",
    "    model = KNeighborsClassifier(n_neighbors=n_neighbors,weights='uniform')\n",
    "    # fit the model on training data\n",
    "    model.fit(X_train, y_train)\n",
    "    # make predictions on training data\n",
    "    y_pred = model.predict(X_train)\n",
    "    # evaluate model\n",
    "    tn, fp, fn, tp = confusion_matrix(y_train, y_pred).ravel()\n",
    "    roc_auc = roc_auc_score(y_train, y_pred)\n",
    "    results_dict = {'accuracy': accuracy_score(y_train, y_pred),\n",
    "                    'recall': recall_score(y_train, y_pred),\n",
    "                    'precision': precision_score(y_train, y_pred),\n",
    "                    'f1_score': f1_score(y_train, y_pred),\n",
    "                    'roc_auc' :roc_auc,\n",
    "                    'log_loss' :log_loss(y_train, y_pred),\n",
    "                    'fn': fn,\n",
    "                    'fp': fp,\n",
    "                    'tn': tn,\n",
    "                    'tp': tp}\n",
    "    return results_dict"
   ]
  },
  {
   "cell_type": "code",
   "execution_count": 11,
   "id": "068b7824",
   "metadata": {},
   "outputs": [
    {
     "name": "stderr",
     "output_type": "stream",
     "text": [
      "C:\\Users\\HP Notebook\\anaconda3\\lib\\site-packages\\sklearn\\neighbors\\_classification.py:228: FutureWarning: Unlike other reduction functions (e.g. `skew`, `kurtosis`), the default behavior of `mode` typically preserves the axis it acts along. In SciPy 1.11.0, this behavior will change: the default value of `keepdims` will become False, the `axis` over which the statistic is taken will be eliminated, and the value None will no longer be accepted. Set `keepdims` to True or False to avoid this warning.\n",
      "  mode, _ = stats.mode(_y[neigh_ind, k], axis=1)\n"
     ]
    },
    {
     "data": {
      "text/plain": [
       "{'accuracy': 0.900670794633643,\n",
       " 'recall': 0.9837461300309598,\n",
       " 'precision': 0.8435840707964601,\n",
       " 'f1_score': 0.9082896617436874,\n",
       " 'roc_auc': 0.900670794633643,\n",
       " 'log_loss': 3.430782138733795,\n",
       " 'fn': 63,\n",
       " 'fp': 707,\n",
       " 'tn': 3169,\n",
       " 'tp': 3813}"
      ]
     },
     "execution_count": 11,
     "metadata": {},
     "output_type": "execute_result"
    }
   ],
   "source": [
    "# best feature\n",
    "Knn_model(X_train_over_stand, y_train_over, 3)"
   ]
  },
  {
   "cell_type": "markdown",
   "id": "6b4c0bd4",
   "metadata": {},
   "source": [
    "### Cross Validation KNN "
   ]
  },
  {
   "cell_type": "code",
   "execution_count": 12,
   "id": "e765e8e6",
   "metadata": {},
   "outputs": [],
   "source": [
    "model_knn = KNeighborsClassifier(n_neighbors=3, weights='uniform')"
   ]
  },
  {
   "cell_type": "code",
   "execution_count": 13,
   "id": "537b3cae",
   "metadata": {},
   "outputs": [],
   "source": [
    "skf = StratifiedShuffleSplit(n_splits=5)"
   ]
  },
  {
   "cell_type": "code",
   "execution_count": 14,
   "id": "a1e39deb",
   "metadata": {},
   "outputs": [
    {
     "name": "stderr",
     "output_type": "stream",
     "text": [
      "C:\\Users\\HP Notebook\\anaconda3\\lib\\site-packages\\sklearn\\neighbors\\_classification.py:228: FutureWarning: Unlike other reduction functions (e.g. `skew`, `kurtosis`), the default behavior of `mode` typically preserves the axis it acts along. In SciPy 1.11.0, this behavior will change: the default value of `keepdims` will become False, the `axis` over which the statistic is taken will be eliminated, and the value None will no longer be accepted. Set `keepdims` to True or False to avoid this warning.\n",
      "  mode, _ = stats.mode(_y[neigh_ind, k], axis=1)\n",
      "C:\\Users\\HP Notebook\\anaconda3\\lib\\site-packages\\sklearn\\neighbors\\_classification.py:228: FutureWarning: Unlike other reduction functions (e.g. `skew`, `kurtosis`), the default behavior of `mode` typically preserves the axis it acts along. In SciPy 1.11.0, this behavior will change: the default value of `keepdims` will become False, the `axis` over which the statistic is taken will be eliminated, and the value None will no longer be accepted. Set `keepdims` to True or False to avoid this warning.\n",
      "  mode, _ = stats.mode(_y[neigh_ind, k], axis=1)\n",
      "C:\\Users\\HP Notebook\\anaconda3\\lib\\site-packages\\sklearn\\neighbors\\_classification.py:228: FutureWarning: Unlike other reduction functions (e.g. `skew`, `kurtosis`), the default behavior of `mode` typically preserves the axis it acts along. In SciPy 1.11.0, this behavior will change: the default value of `keepdims` will become False, the `axis` over which the statistic is taken will be eliminated, and the value None will no longer be accepted. Set `keepdims` to True or False to avoid this warning.\n",
      "  mode, _ = stats.mode(_y[neigh_ind, k], axis=1)\n"
     ]
    },
    {
     "name": "stdout",
     "output_type": "stream",
     "text": [
      " Total of score is [0.77835052 0.77319588 0.76546392 0.78608247 0.78994845]\n",
      " Mean of score is 0.7786082474226803\n"
     ]
    },
    {
     "name": "stderr",
     "output_type": "stream",
     "text": [
      "C:\\Users\\HP Notebook\\anaconda3\\lib\\site-packages\\sklearn\\neighbors\\_classification.py:228: FutureWarning: Unlike other reduction functions (e.g. `skew`, `kurtosis`), the default behavior of `mode` typically preserves the axis it acts along. In SciPy 1.11.0, this behavior will change: the default value of `keepdims` will become False, the `axis` over which the statistic is taken will be eliminated, and the value None will no longer be accepted. Set `keepdims` to True or False to avoid this warning.\n",
      "  mode, _ = stats.mode(_y[neigh_ind, k], axis=1)\n",
      "C:\\Users\\HP Notebook\\anaconda3\\lib\\site-packages\\sklearn\\neighbors\\_classification.py:228: FutureWarning: Unlike other reduction functions (e.g. `skew`, `kurtosis`), the default behavior of `mode` typically preserves the axis it acts along. In SciPy 1.11.0, this behavior will change: the default value of `keepdims` will become False, the `axis` over which the statistic is taken will be eliminated, and the value None will no longer be accepted. Set `keepdims` to True or False to avoid this warning.\n",
      "  mode, _ = stats.mode(_y[neigh_ind, k], axis=1)\n"
     ]
    }
   ],
   "source": [
    "# CV Knn\n",
    "cv_scores_knn = cross_val_score(model_knn, X_train_over_stand, y_train_over, cv=skf)\n",
    "print(f' Total of score is {cv_scores_knn}') #mean value\n",
    "print(f' Mean of score is {cv_scores_knn.mean()}') #mean value"
   ]
  },
  {
   "cell_type": "markdown",
   "id": "d8081c11",
   "metadata": {},
   "source": [
    "### 2. Model SVM"
   ]
  },
  {
   "cell_type": "code",
   "execution_count": 15,
   "id": "417b4ee5",
   "metadata": {},
   "outputs": [
    {
     "name": "stderr",
     "output_type": "stream",
     "text": [
      "C:\\Users\\HP Notebook\\anaconda3\\lib\\site-packages\\sklearn\\metrics\\_classification.py:1318: UndefinedMetricWarning: Precision is ill-defined and being set to 0.0 due to no predicted samples. Use `zero_division` parameter to control this behavior.\n",
      "  _warn_prf(average, modifier, msg_start, len(result))\n"
     ]
    }
   ],
   "source": [
    "# scaling standart\n",
    "svm_over_stand = simple_mod.svm(X_train_over_stand, y_train_over)\n",
    "svm_under_stand = simple_mod.svm(X_train_under_stand, y_train_under) \n",
    "svm_smote_stand = simple_mod.svm(X_train_smote_stand, y_train_smote) \n",
    "svm_stand = simple_mod.svm(X_train_stand, y_train) "
   ]
  },
  {
   "cell_type": "code",
   "execution_count": 16,
   "id": "9a63850a",
   "metadata": {},
   "outputs": [
    {
     "name": "stderr",
     "output_type": "stream",
     "text": [
      "C:\\Users\\HP Notebook\\anaconda3\\lib\\site-packages\\sklearn\\metrics\\_classification.py:1318: UndefinedMetricWarning: Precision is ill-defined and being set to 0.0 due to no predicted samples. Use `zero_division` parameter to control this behavior.\n",
      "  _warn_prf(average, modifier, msg_start, len(result))\n"
     ]
    }
   ],
   "source": [
    "# scaling minmax\n",
    "svm_over_min = simple_mod.svm(X_train_over_min, y_train_over) \n",
    "svm_under_min = simple_mod.svm(X_train_under_min, y_train_under) \n",
    "svm_smote_min = simple_mod.svm(X_train_smote_min, y_train_smote) \n",
    "svm_min = simple_mod.svm(X_train_min, y_train) "
   ]
  },
  {
   "cell_type": "code",
   "execution_count": 17,
   "id": "0f73fd37",
   "metadata": {},
   "outputs": [
    {
     "name": "stderr",
     "output_type": "stream",
     "text": [
      "C:\\Users\\HP Notebook\\anaconda3\\lib\\site-packages\\sklearn\\metrics\\_classification.py:1318: UndefinedMetricWarning: Precision is ill-defined and being set to 0.0 due to no predicted samples. Use `zero_division` parameter to control this behavior.\n",
      "  _warn_prf(average, modifier, msg_start, len(result))\n"
     ]
    }
   ],
   "source": [
    "# scaling normal\n",
    "svm_over_norm = simple_mod.svm(X_train_over_norm, y_train_over) # best\n",
    "svm_under_norm = simple_mod.svm(X_train_under_norm, y_train_under) \n",
    "svm_smote_norm = simple_mod.svm(X_train_smote_norm, y_train_smote) \n",
    "svm_norm = simple_mod.svm(X_train_norm, y_train) "
   ]
  },
  {
   "cell_type": "code",
   "execution_count": 18,
   "id": "592e3dbf",
   "metadata": {},
   "outputs": [],
   "source": [
    "# hyper parameter svm Tree model\n",
    "def svm_model(X_train, y_train):\n",
    "            # create decision model\n",
    "            model = SVC(C = 90, gamma='auto')\n",
    "            # fit the model on training data\n",
    "            model.fit(X_train, y_train)\n",
    "            # make predictions on training data\n",
    "            y_pred = model.predict(X_train)\n",
    "            # evaluate model\n",
    "            tn, fp, fn, tp = confusion_matrix(y_train, y_pred).ravel()\n",
    "            roc_auc = roc_auc_score(y_train, y_pred)\n",
    "            results_dict = {'accuracy': accuracy_score(y_train, y_pred),\n",
    "                            'recall': recall_score(y_train, y_pred),\n",
    "                            'precision': precision_score(y_train, y_pred),\n",
    "                            'f1_score': f1_score(y_train, y_pred),\n",
    "                            'roc_auc' :roc_auc,\n",
    "                            'log_loss' :log_loss(y_train, y_pred),\n",
    "                            'fn': fn,\n",
    "                            'fp': fp,\n",
    "                            'tn': tn,\n",
    "                            'tp': tp}\n",
    "            return results_dict"
   ]
  },
  {
   "cell_type": "code",
   "execution_count": 19,
   "id": "5009bb1d",
   "metadata": {},
   "outputs": [
    {
     "data": {
      "text/plain": [
       "{'accuracy': 0.8624871001031992,\n",
       " 'recall': 0.8072755417956656,\n",
       " 'precision': 0.9074825986078886,\n",
       " 'f1_score': 0.8544511196067721,\n",
       " 'roc_auc': 0.8624871001031992,\n",
       " 'log_loss': 4.749560204921958,\n",
       " 'fn': 747,\n",
       " 'fp': 319,\n",
       " 'tn': 3557,\n",
       " 'tp': 3129}"
      ]
     },
     "execution_count": 19,
     "metadata": {},
     "output_type": "execute_result"
    }
   ],
   "source": [
    "svm_model(X_train_smote_stand, y_train_smote)"
   ]
  },
  {
   "cell_type": "code",
   "execution_count": 20,
   "id": "0f34e580",
   "metadata": {},
   "outputs": [],
   "source": [
    "skf_1 = StratifiedShuffleSplit(n_splits=5)"
   ]
  },
  {
   "cell_type": "code",
   "execution_count": 21,
   "id": "ed986e17",
   "metadata": {},
   "outputs": [],
   "source": [
    "model_svm = SVC(C = 90, gamma='auto')"
   ]
  },
  {
   "cell_type": "code",
   "execution_count": 22,
   "id": "e18a604c",
   "metadata": {
    "scrolled": true
   },
   "outputs": [
    {
     "name": "stdout",
     "output_type": "stream",
     "text": [
      " Total of score is [0.80154639 0.80412371 0.77706186 0.80927835 0.79381443]\n",
      " Mean of score is 0.7971649484536082\n"
     ]
    }
   ],
   "source": [
    "# CV svm\n",
    "cv_scores_svm = cross_val_score(model_svm, X_train_smote_stand, y_train_smote, cv=skf_1)\n",
    "print(f' Total of score is {cv_scores_svm}') #mean value\n",
    "print(f' Mean of score is {cv_scores_svm.mean()}') #mean value"
   ]
  },
  {
   "cell_type": "markdown",
   "id": "1c083639",
   "metadata": {},
   "source": [
    "### 3. Model Naive Bayes"
   ]
  },
  {
   "cell_type": "code",
   "execution_count": 23,
   "id": "93565901",
   "metadata": {},
   "outputs": [],
   "source": [
    "# scaling standart\n",
    "tree_over_stand = simple_mod.bayesian(X_train_over_stand, y_train_over)\n",
    "tree_under_stand = simple_mod.bayesian(X_train_under_stand, y_train_under) \n",
    "tree_smote_stand = simple_mod.bayesian(X_train_smote_stand, y_train_smote) \n",
    "tree_stand = simple_mod.bayesian(X_train_stand, y_train) "
   ]
  },
  {
   "cell_type": "code",
   "execution_count": 24,
   "id": "de977b4d",
   "metadata": {},
   "outputs": [],
   "source": [
    "# scaling minmax\n",
    "tree_over_min = simple_mod.bayesian(X_train_over_min, y_train_over) \n",
    "tree_under_min = simple_mod.bayesian(X_train_under_min, y_train_under) \n",
    "tree_smote_min = simple_mod.bayesian(X_train_smote_min, y_train_smote) \n",
    "tree_min = simple_mod.bayesian(X_train_min, y_train) "
   ]
  },
  {
   "cell_type": "code",
   "execution_count": 25,
   "id": "88ad7528",
   "metadata": {},
   "outputs": [],
   "source": [
    "# scaling normal\n",
    "tree_over_norm = simple_mod.bayesian(X_train_over_norm, y_train_over) # best\n",
    "tree_under_norm = simple_mod.bayesian(X_train_under_norm, y_train_under) \n",
    "tree_smote_norm = simple_mod.bayesian(X_train_smote_norm, y_train_smote) \n",
    "tree_norm = simple_mod.bayesian(X_train_norm, y_train) "
   ]
  },
  {
   "cell_type": "code",
   "execution_count": 26,
   "id": "2d9b37c1",
   "metadata": {},
   "outputs": [],
   "source": [
    "# hyper parameter \n",
    "def bayesian(X_train, y_train):\n",
    "        # create decision model\n",
    "        model = GaussianNB(var_smoothing = 1e-9)\n",
    "        # fit the model on training data\n",
    "        model.fit(X_train, y_train)\n",
    "        # make predictions on training data\n",
    "        y_pred = model.predict(X_train)\n",
    "        # evaluate model\n",
    "        tn, fp, fn, tp = confusion_matrix(y_train, y_pred).ravel()\n",
    "        roc_auc = roc_auc_score(y_train, y_pred)\n",
    "        results_dict = {'accuracy': accuracy_score(y_train, y_pred),\n",
    "                        'recall': recall_score(y_train, y_pred),\n",
    "                        'precision': precision_score(y_train, y_pred),\n",
    "                        'f1_score': f1_score(y_train, y_pred),\n",
    "                        'roc_auc' :roc_auc,\n",
    "                        'log_loss' :log_loss(y_train, y_pred),\n",
    "                        'fn': fn,\n",
    "                        'fp': fp,\n",
    "                        'tn': tn,\n",
    "                        'tp': tp}\n",
    "        return results_dict"
   ]
  },
  {
   "cell_type": "code",
   "execution_count": 27,
   "id": "73e96e4b",
   "metadata": {},
   "outputs": [
    {
     "data": {
      "text/plain": [
       "{'accuracy': 0.7249742002063984,\n",
       " 'recall': 0.859391124871001,\n",
       " 'precision': 0.6773078487189914,\n",
       " 'f1_score': 0.7575619740732317,\n",
       " 'roc_auc': 0.7249742002063984,\n",
       " 'log_loss': 9.499218296577824,\n",
       " 'fn': 545,\n",
       " 'fp': 1587,\n",
       " 'tn': 2289,\n",
       " 'tp': 3331}"
      ]
     },
     "execution_count": 27,
     "metadata": {},
     "output_type": "execute_result"
    }
   ],
   "source": [
    "bayesian(X_train_smote_stand, y_train_smote)"
   ]
  },
  {
   "cell_type": "code",
   "execution_count": 28,
   "id": "510bba9b",
   "metadata": {},
   "outputs": [],
   "source": [
    "model_bayesian = GaussianNB(var_smoothing = 1e-9)"
   ]
  },
  {
   "cell_type": "code",
   "execution_count": 29,
   "id": "f6d3c37c",
   "metadata": {},
   "outputs": [],
   "source": [
    "skf_2 = StratifiedShuffleSplit(n_splits=5)"
   ]
  },
  {
   "cell_type": "code",
   "execution_count": 30,
   "id": "0f6ed4a1",
   "metadata": {},
   "outputs": [
    {
     "name": "stdout",
     "output_type": "stream",
     "text": [
      " Total of score is [0.73453608 0.72036082 0.71005155 0.71134021 0.72680412]\n",
      " Mean of score is 0.720618556701031\n"
     ]
    }
   ],
   "source": [
    "# CV bayesian\n",
    "cv_scores_bayesian = cross_val_score(model_bayesian, X_train_smote_stand, y_train_smote, cv=skf_2)\n",
    "print(f' Total of score is {cv_scores_bayesian}') #mean value\n",
    "print(f' Mean of score is {cv_scores_bayesian.mean()}') #mean value"
   ]
  },
  {
   "cell_type": "markdown",
   "id": "94e015b0",
   "metadata": {},
   "source": [
    "# Complex Model"
   ]
  },
  {
   "cell_type": "markdown",
   "id": "625f4389",
   "metadata": {},
   "source": [
    "### 1.Xgbost"
   ]
  },
  {
   "cell_type": "code",
   "execution_count": 31,
   "id": "6f3e187b",
   "metadata": {},
   "outputs": [],
   "source": [
    "# scaling standart\n",
    "xg_over_stand = simple_mod.Xgbost(X_train_over_stand, y_train_over)\n",
    "xg_under_stand = simple_mod.Xgbost(X_train_under_stand, y_train_under) \n",
    "xg_smote_stand = simple_mod.Xgbost(X_train_smote_stand, y_train_smote) \n",
    "xg_stand = simple_mod.Xgbost(X_train_stand, y_train) "
   ]
  },
  {
   "cell_type": "code",
   "execution_count": 32,
   "id": "959762c1",
   "metadata": {},
   "outputs": [],
   "source": [
    "# scaling minmax\n",
    "xg_over_min = simple_mod.Xgbost(X_train_over_min, y_train_over) \n",
    "xg_under_min = simple_mod.Xgbost(X_train_under_min, y_train_under) \n",
    "xg_smote_min = simple_mod.Xgbost(X_train_smote_min, y_train_smote) \n",
    "xg_min = simple_mod.Xgbost(X_train_min, y_train) "
   ]
  },
  {
   "cell_type": "code",
   "execution_count": 33,
   "id": "0c435863",
   "metadata": {},
   "outputs": [],
   "source": [
    "# scaling normal\n",
    "xg_over_norm = simple_mod.Xgbost(X_train_over_norm, y_train_over) # best\n",
    "xg_under_norm = simple_mod.Xgbost(X_train_under_norm, y_train_under) \n",
    "xg_smote_norm = simple_mod.Xgbost(X_train_smote_norm, y_train_smote) \n",
    "xg_norm = simple_mod.Xgbost(X_train_norm, y_train) "
   ]
  },
  {
   "cell_type": "code",
   "execution_count": 34,
   "id": "2ce734e9",
   "metadata": {},
   "outputs": [],
   "source": [
    "# parameter\n",
    "def Xgbost(X_train, y_train):\n",
    "    # create Adabost model\n",
    "    model = XGBClassifier(n_estimators = 25, max_bin = 5, booster='gbtree', max_depth = 5)\n",
    "    # fit the model on training data\n",
    "    model.fit(X_train, y_train)\n",
    "    # make predictions on training data\n",
    "    y_pred = model.predict(X_train)\n",
    "    # evaluate model\n",
    "    tn, fp, fn, tp = confusion_matrix(y_train, y_pred).ravel()\n",
    "    roc_auc = roc_auc_score(y_train, y_pred)\n",
    "    results_dict = {'accuracy': accuracy_score(y_train, y_pred),\n",
    "                    'recall': recall_score(y_train, y_pred),\n",
    "                    'precision': precision_score(y_train, y_pred),\n",
    "                    'f1_score': f1_score(y_train, y_pred),\n",
    "                    'roc_auc' :roc_auc,\n",
    "                    'log_loss' :log_loss(y_train, y_pred),\n",
    "                    'fn': fn,\n",
    "                    'fp': fp,\n",
    "                    'tn': tn,\n",
    "                    'tp': tp}\n",
    "    return results_dict    "
   ]
  },
  {
   "cell_type": "code",
   "execution_count": 35,
   "id": "19575cf8",
   "metadata": {},
   "outputs": [
    {
     "data": {
      "text/plain": [
       "{'accuracy': 0.8516511867905057,\n",
       " 'recall': 0.7848297213622291,\n",
       " 'precision': 0.9058963668850506,\n",
       " 'f1_score': 0.8410284766380978,\n",
       " 'roc_auc': 0.8516511867905057,\n",
       " 'log_loss': 5.123819082421985,\n",
       " 'fn': 834,\n",
       " 'fp': 316,\n",
       " 'tn': 3560,\n",
       " 'tp': 3042}"
      ]
     },
     "execution_count": 35,
     "metadata": {},
     "output_type": "execute_result"
    }
   ],
   "source": [
    "Xgbost(X_train_smote_stand, y_train_smote)"
   ]
  },
  {
   "cell_type": "code",
   "execution_count": 36,
   "id": "bf3a3db0",
   "metadata": {},
   "outputs": [],
   "source": [
    "sk_3 = StratifiedKFold(n_splits = 5)"
   ]
  },
  {
   "cell_type": "code",
   "execution_count": 37,
   "id": "7df53228",
   "metadata": {},
   "outputs": [],
   "source": [
    "model_xg = XGBClassifier(n_estimators = 25, max_bin = 5, booster='gbtree', max_depth = 5)"
   ]
  },
  {
   "cell_type": "code",
   "execution_count": 38,
   "id": "f629bc45",
   "metadata": {},
   "outputs": [
    {
     "name": "stdout",
     "output_type": "stream",
     "text": [
      " Total of score is [0.67276423 0.67682927 0.64227642 0.65243902 0.66056911]\n",
      " Mean of score is 0.6609756097560976\n"
     ]
    }
   ],
   "source": [
    "# CV xgbost\n",
    "cv_scores_xg = cross_val_score(model_xg, X_train_under_stand, y_train_under, cv=sk_3)\n",
    "print(f' Total of score is {cv_scores_xg}') #mean value\n",
    "print(f' Mean of score is {cv_scores_xg.mean()}') #mean value"
   ]
  },
  {
   "cell_type": "markdown",
   "id": "9f8b78b9",
   "metadata": {},
   "source": [
    "# Elemination Feature - Model SVM"
   ]
  },
  {
   "cell_type": "markdown",
   "id": "9e610a83",
   "metadata": {},
   "source": [
    "### 1. Selection Permutation"
   ]
  },
  {
   "cell_type": "code",
   "execution_count": 39,
   "id": "8dbe87cd",
   "metadata": {},
   "outputs": [],
   "source": [
    "from sklearn.inspection import permutation_importance\n",
    "\n",
    "def selection_permutaion(X_train, y_train, model, select_k):\n",
    "            \"\"\"\n",
    "            This function for selection feature with permutaion method.\n",
    "            Step :\n",
    "            - input best model\n",
    "            - input best X_train and y_train\n",
    "            - fitting model\n",
    "            - Permutation data and then sort with argsort from high score until low\n",
    "            - fill sum of feature\n",
    "            - return result of feature\n",
    "            \"\"\"\n",
    "            # Fit the data to the model\n",
    "            model.fit(X_train, y_train)\n",
    "\n",
    "            # Perform permutation feature importance\n",
    "            perm_importance = permutation_importance(model, X_train, y_train)\n",
    "\n",
    "            # Get the feature importances and indices\n",
    "            feature_importances = perm_importance.importances_mean\n",
    "            feature_indices = np.argsort(feature_importances)[::-1]\n",
    "\n",
    "            # Set the number of top features to select\n",
    "            k = select_k\n",
    "\n",
    "            # Get the indices of the top k features\n",
    "            top_k_indices = feature_indices[:k]\n",
    "\n",
    "            # Get the column names of the top k features\n",
    "            selected_feature_names = X_train.columns[top_k_indices]\n",
    "\n",
    "            return selected_feature_names"
   ]
  },
  {
   "cell_type": "code",
   "execution_count": 40,
   "id": "aad16e3c",
   "metadata": {},
   "outputs": [
    {
     "data": {
      "text/plain": [
       "Index(['gender_Male', 'country_France', 'Age_young', 'gender_Female',\n",
       "       'country_Spain', 'country_Germany', 'Age_mature', 'active_member',\n",
       "       'tenure', 'balance', 'credit_score', 'estimated_salary', 'Age_old',\n",
       "       'credit_card'],\n",
       "      dtype='object')"
      ]
     },
     "execution_count": 40,
     "metadata": {},
     "output_type": "execute_result"
    }
   ],
   "source": [
    "selection_permutaion(X_train_smote_stand, y_train_smote, model_svm, 14)"
   ]
  },
  {
   "cell_type": "code",
   "execution_count": 41,
   "id": "74c53c32",
   "metadata": {},
   "outputs": [],
   "source": [
    "selected_feature_names = X_train_smote_stand[['gender_Male', 'country_France', 'Age_young', 'gender_Female',\n",
    "       'country_Spain', 'country_Germany', 'Age_mature', 'active_member','tenure', 'balance','credit_score',]]"
   ]
  },
  {
   "cell_type": "markdown",
   "id": "7104b4d6",
   "metadata": {},
   "source": [
    "### Model with Permutation Selection "
   ]
  },
  {
   "cell_type": "code",
   "execution_count": 42,
   "id": "36ae7b03",
   "metadata": {},
   "outputs": [
    {
     "data": {
      "text/plain": [
       "{'accuracy': 0.8348813209494325,\n",
       " 'recall': 0.7703818369453045,\n",
       " 'precision': 0.884478672985782,\n",
       " 'f1_score': 0.8234969663541092,\n",
       " 'roc_auc': 0.8348813209494325,\n",
       " 'log_loss': 5.703037361775471,\n",
       " 'fn': 890,\n",
       " 'fp': 390,\n",
       " 'tn': 3486,\n",
       " 'tp': 2986}"
      ]
     },
     "execution_count": 42,
     "metadata": {},
     "output_type": "execute_result"
    }
   ],
   "source": [
    "svm_model(selected_feature_names, y_train_smote)"
   ]
  },
  {
   "cell_type": "code",
   "execution_count": 43,
   "id": "413b5998",
   "metadata": {},
   "outputs": [
    {
     "name": "stdout",
     "output_type": "stream",
     "text": [
      " Total of score is [0.79768041 0.81185567 0.81829897 0.80927835 0.82216495]\n",
      " Mean of score is 0.8118556701030928\n"
     ]
    }
   ],
   "source": [
    "# CV svm\n",
    "cv_scores_svm = cross_val_score(model_svm, selected_feature_names, y_train_smote, cv=skf_1)\n",
    "print(f' Total of score is {cv_scores_svm}') #mean value\n",
    "print(f' Mean of score is {cv_scores_svm.mean()}') #mean value"
   ]
  },
  {
   "cell_type": "markdown",
   "id": "7c0f7dd2",
   "metadata": {},
   "source": [
    "# 2. Selection MSE"
   ]
  },
  {
   "cell_type": "code",
   "execution_count": 44,
   "id": "c2298719",
   "metadata": {},
   "outputs": [],
   "source": [
    "from sklearn.metrics import mean_squared_error\n",
    "\n",
    "def selection_MSE(X_train, y_train, model):\n",
    "    \"\"\"\n",
    "    Function for selection feature with MSE values,\n",
    "    if values the greater it is then position feature is top rank\n",
    "    Step :\n",
    "    Using \n",
    "    - best model\n",
    "    - best X_train\n",
    "    - best y_train\n",
    "    return mse values\n",
    "    \"\"\"\n",
    "    \n",
    "    mse_values =[]\n",
    "\n",
    "    for feature in X_train_smote_stand.columns:\n",
    "        model_svm.fit(X_train_smote_stand, y_train_smote)\n",
    "        y_pred = model_svm.predict(X_train_smote_stand)\n",
    "        mse_values.append(mean_squared_error(y_pred,y_train_smote))\n",
    "        \n",
    "    mse_values = pd.Series(mse_values)\n",
    "    mse_values.index = X_train_smote_stand.columns\n",
    "    \n",
    "    return mse_values"
   ]
  },
  {
   "cell_type": "code",
   "execution_count": 45,
   "id": "a2ffdba4",
   "metadata": {},
   "outputs": [
    {
     "data": {
      "text/plain": [
       "country_France      0.137513\n",
       "country_Germany     0.137513\n",
       "country_Spain       0.137513\n",
       "gender_Female       0.137513\n",
       "gender_Male         0.137513\n",
       "Age_mature          0.137513\n",
       "Age_old             0.137513\n",
       "Age_young           0.137513\n",
       "tenure              0.137513\n",
       "credit_card         0.137513\n",
       "active_member       0.137513\n",
       "balance             0.137513\n",
       "credit_score        0.137513\n",
       "estimated_salary    0.137513\n",
       "dtype: float64"
      ]
     },
     "execution_count": 45,
     "metadata": {},
     "output_type": "execute_result"
    }
   ],
   "source": [
    "selection_MSE(selected_feature_names, y_train_smote, model_svm)"
   ]
  },
  {
   "cell_type": "markdown",
   "id": "41c8bc63",
   "metadata": {},
   "source": [
    "# Bootstrap"
   ]
  },
  {
   "cell_type": "code",
   "execution_count": 46,
   "id": "f53c0882",
   "metadata": {},
   "outputs": [],
   "source": [
    "import numpy as np\n",
    "from sklearn.utils import resample\n",
    "\n",
    "def bootstrap(X_train, y_train, model, n_iterations): \n",
    "        \"\"\"\n",
    "        This funtion for check confident interval accuracy,\n",
    "        step:\n",
    "        - input sum of iterations\n",
    "        - input best model\n",
    "        - input best X_train and y_train\n",
    "        - sampling data with boostrap method\n",
    "        - check accuracy from this data\n",
    "        - make percentile accuracy score so that 95% interval\n",
    "        - append data to accuracy score \n",
    "        - return\n",
    "        \"\"\"\n",
    "        \n",
    "        # Define the number of bootstrap iterations\n",
    "        n_iterations = n_iterations\n",
    "\n",
    "        # Create an empty list to store the performance metrics\n",
    "        accuracy_scores = []\n",
    "\n",
    "        # Perform bootstrap resampling and evaluate the model\n",
    "        for iteration in range(n_iterations):\n",
    "            # Bootstrap resampling of the data\n",
    "            X_resampled, y_resampled = resample(X_train, y_train)\n",
    "\n",
    "            # Fit your model using the resampled data\n",
    "            model.fit(X_resampled, y_resampled)\n",
    "\n",
    "            # Evaluate the model and compute the performance metric (e.g., accuracy)\n",
    "            accuracy = model.score(X_train, y_train)\n",
    "\n",
    "            # Append the performance metric to the list\n",
    "            accuracy_scores.append(accuracy)\n",
    "\n",
    "        # Compute the confidence interval\n",
    "        confidence_interval = np.percentile(accuracy_scores, [2.5, 97.5])\n",
    "\n",
    "        # Print the confidence interval\n",
    "        print(f\"95% Confidence Interval: {confidence_interval}\")"
   ]
  },
  {
   "cell_type": "code",
   "execution_count": 47,
   "id": "117ea2f6",
   "metadata": {},
   "outputs": [
    {
     "name": "stdout",
     "output_type": "stream",
     "text": [
      "95% Confidence Interval: [0.82597394 0.83188532]\n"
     ]
    }
   ],
   "source": [
    "bootstrap(selected_feature_names, y_train_smote, model_svm, 10)"
   ]
  },
  {
   "cell_type": "markdown",
   "id": "36e2a980",
   "metadata": {},
   "source": [
    "# Test Model"
   ]
  },
  {
   "cell_type": "code",
   "execution_count": 48,
   "id": "fa5e4a05",
   "metadata": {},
   "outputs": [],
   "source": [
    "def svm_model_test(X_train, y_train, X_test, y_test):\n",
    "    # create decision model\n",
    "    model = SVC(C=90, gamma='auto')\n",
    "    # fit the model on training data\n",
    "    model.fit(X_train, y_train)\n",
    "    # make predictions on test data\n",
    "    y_pred = model.predict(X_test)\n",
    "    # evaluate model\n",
    "    tn, fp, fn, tp = confusion_matrix(y_test, y_pred).ravel()\n",
    "    roc_auc = roc_auc_score(y_test, y_pred)\n",
    "    results_dict = {\n",
    "        'accuracy': accuracy_score(y_test, y_pred),\n",
    "        'recall': recall_score(y_test, y_pred),\n",
    "        'precision': precision_score(y_test, y_pred),\n",
    "        'f1_score': f1_score(y_test, y_pred),\n",
    "        'roc_auc': roc_auc,\n",
    "        'log_loss': log_loss(y_test, y_pred),\n",
    "        'fn': fn,\n",
    "        'fp': fp,\n",
    "        'tn': tn,\n",
    "        'tp': tp\n",
    "    }\n",
    "    return results_dict"
   ]
  },
  {
   "cell_type": "code",
   "execution_count": 49,
   "id": "d2f46332",
   "metadata": {},
   "outputs": [],
   "source": [
    "selected_feature_names_test = X_test_smote_stand[['gender_Male', 'country_France', 'Age_young', 'gender_Female',\n",
    "       'country_Spain', 'country_Germany', 'Age_mature', 'active_member','tenure', 'balance','credit_score']]"
   ]
  },
  {
   "cell_type": "code",
   "execution_count": 50,
   "id": "57ac0cd6",
   "metadata": {},
   "outputs": [
    {
     "data": {
      "text/plain": [
       "{'accuracy': 0.8,\n",
       " 'recall': 0.7505154639175258,\n",
       " 'precision': 0.8329519450800915,\n",
       " 'f1_score': 0.789587852494577,\n",
       " 'roc_auc': 0.8,\n",
       " 'log_loss': 6.907815454871214,\n",
       " 'fn': 242,\n",
       " 'fp': 146,\n",
       " 'tn': 824,\n",
       " 'tp': 728}"
      ]
     },
     "execution_count": 50,
     "metadata": {},
     "output_type": "execute_result"
    }
   ],
   "source": [
    "svm_model_test(selected_feature_names,y_train_smote, selected_feature_names_test, y_test_smote)"
   ]
  },
  {
   "cell_type": "markdown",
   "id": "eaf1e70d",
   "metadata": {},
   "source": [
    "# Evaluation Model"
   ]
  },
  {
   "cell_type": "code",
   "execution_count": 51,
   "id": "e4b648f6",
   "metadata": {},
   "outputs": [],
   "source": [
    "def svm_model_class(X_train, y_train, X_test, y_test, positive_label, negative_label):\n",
    "    # create decision model\n",
    "    model = SVC(C=90, gamma='auto')\n",
    "    # fit the model on training data\n",
    "    model.fit(X_train, y_train)\n",
    "    # make predictions on test data\n",
    "    y_pred = model.predict(X_test)\n",
    "    # evaluate model\n",
    "    tn, fp, fn, tp = confusion_matrix(y_test, y_pred, labels=[negative_label, positive_label]).ravel()\n",
    "    roc_auc = roc_auc_score(y_test, y_pred)\n",
    "    results_dict = {\n",
    "        'accuracy': accuracy_score(y_test, y_pred),\n",
    "        'recall_positive': recall_score(y_test, y_pred, pos_label=positive_label),\n",
    "        'precision_positive': precision_score(y_test, y_pred, pos_label=positive_label),\n",
    "        'f1_score_positive': f1_score(y_test, y_pred, pos_label=positive_label),\n",
    "        'recall_negative': recall_score(y_test, y_pred, pos_label=negative_label),\n",
    "        'precision_negative': precision_score(y_test, y_pred, pos_label=negative_label),\n",
    "        'f1_score_negative': f1_score(y_test, y_pred, pos_label=negative_label),\n",
    "    }\n",
    "    return results_dict"
   ]
  },
  {
   "cell_type": "code",
   "execution_count": 52,
   "id": "11f515a2",
   "metadata": {},
   "outputs": [
    {
     "data": {
      "text/plain": [
       "{'accuracy': 0.8,\n",
       " 'recall_positive': 0.7505154639175258,\n",
       " 'precision_positive': 0.8329519450800915,\n",
       " 'f1_score_positive': 0.789587852494577,\n",
       " 'recall_negative': 0.8494845360824742,\n",
       " 'precision_negative': 0.7729831144465291,\n",
       " 'f1_score_negative': 0.8094302554027505}"
      ]
     },
     "execution_count": 52,
     "metadata": {},
     "output_type": "execute_result"
    }
   ],
   "source": [
    "svm_model_class(selected_feature_names,y_train_smote, selected_feature_names_test, y_test_smote, 1, 0)"
   ]
  },
  {
   "cell_type": "markdown",
   "id": "a06350a3",
   "metadata": {},
   "source": [
    "# Serving Model"
   ]
  },
  {
   "cell_type": "code",
   "execution_count": 53,
   "id": "0954f315",
   "metadata": {},
   "outputs": [
    {
     "data": {
      "text/plain": [
       "['gender_Male',\n",
       " 'country_France',\n",
       " 'Age_young',\n",
       " 'gender_Female',\n",
       " 'country_Spain',\n",
       " 'country_Germany',\n",
       " 'Age_mature',\n",
       " 'active_member',\n",
       " 'tenure',\n",
       " 'balance',\n",
       " 'credit_score']"
      ]
     },
     "execution_count": 53,
     "metadata": {},
     "output_type": "execute_result"
    }
   ],
   "source": [
    "features= selected_feature_names.columns.to_list()\n",
    "features"
   ]
  },
  {
   "cell_type": "code",
   "execution_count": 54,
   "id": "1fd2ad84",
   "metadata": {},
   "outputs": [
    {
     "name": "stdout",
     "output_type": "stream",
     "text": [
      "gender_Male\n",
      "Apakah Gender customer Male? (1/0)\n",
      "Enter your value: 1\n",
      " \n",
      "country_France\n",
      "Apakah Country customer dari france ? (1/0)\n",
      "Enter your value: 1\n",
      " \n",
      "Age_young\n",
      "Apakah umur customer termasuk young? (1/0)\n",
      "Enter your value: 0\n",
      " \n",
      "gender_Female\n",
      "Apakah Gender customer Female? (1/0)\n",
      "Enter your value: 0\n",
      " \n",
      "country_Spain\n",
      "Apakah Country customer dari Spain ? (1/0)\n",
      "Enter your value: 0\n",
      " \n",
      "country_Germany\n",
      "Apakah Country customer dari Gemany ? (1/0)\n",
      "Enter your value: 0\n",
      " \n",
      "Age_mature\n",
      "Apakah umur customer termasuk Mature? (1/0)\n",
      "Enter your value: 1\n",
      " \n",
      "active_member\n",
      "Apakah customer termasuk active_member? (1/0)\n",
      "Enter your value: 1\n",
      " \n",
      "tenure\n",
      "Berapa jumlah tenure customer?\n",
      "Enter your value: 4\n",
      " \n",
      "balance\n",
      "Berapa jumlah balance customer?\n",
      "Enter your value: 5632728\n",
      " \n",
      "credit_score\n",
      "Berapa jumlah balance credit_score?\n",
      "Enter your value: 200\n",
      " \n"
     ]
    }
   ],
   "source": [
    "# aplication model\n",
    "input_data = pd.DataFrame()\n",
    "for i in features:\n",
    "    print(i)\n",
    "    \n",
    "    if i =='gender_Male':\n",
    "        print(\"Apakah Gender customer Male? (1/0)\")\n",
    "    if i =='country_France':\n",
    "        print(\"Apakah Country customer dari france ? (1/0)\")\n",
    "    if i =='Age_young':\n",
    "        print(\"Apakah umur customer termasuk young? (1/0)\")\n",
    "    if i =='gender_Female':\n",
    "        print(\"Apakah Gender customer Female? (1/0)\")\n",
    "    if i =='country_Spain':\n",
    "        print(\"Apakah Country customer dari Spain ? (1/0)\")\n",
    "    if i =='country_Germany':\n",
    "        print(\"Apakah Country customer dari Gemany ? (1/0)\")\n",
    "    if i =='Age_mature':\n",
    "        print(\"Apakah umur customer termasuk Mature? (1/0)\")\n",
    "    if i =='active_member':\n",
    "        print(\"Apakah customer termasuk active_member? (1/0)\")\n",
    "    if i =='tenure':\n",
    "        print(\"Berapa jumlah tenure customer?\")\n",
    "    if i =='balance':\n",
    "        print(\"Berapa jumlah balance customer?\")\n",
    "    if i =='credit_score':\n",
    "        print(\"Berapa jumlah balance credit_score?\")  \n",
    "    number = float(input(\"Enter your value: \"))\n",
    "    \n",
    "    if number < 0 :\n",
    "        print(\"Please input non-negative value \")\n",
    "        break\n",
    "    else:\n",
    "        pass\n",
    "    x=' '\n",
    "    print(x)\n",
    "    column_name = i\n",
    "    input_data.loc[0, column_name] = number"
   ]
  },
  {
   "cell_type": "code",
   "execution_count": 59,
   "id": "d058eedc",
   "metadata": {},
   "outputs": [
    {
     "data": {
      "text/html": [
       "<div>\n",
       "<style scoped>\n",
       "    .dataframe tbody tr th:only-of-type {\n",
       "        vertical-align: middle;\n",
       "    }\n",
       "\n",
       "    .dataframe tbody tr th {\n",
       "        vertical-align: top;\n",
       "    }\n",
       "\n",
       "    .dataframe thead th {\n",
       "        text-align: right;\n",
       "    }\n",
       "</style>\n",
       "<table border=\"1\" class=\"dataframe\">\n",
       "  <thead>\n",
       "    <tr style=\"text-align: right;\">\n",
       "      <th></th>\n",
       "      <th>gender_Male</th>\n",
       "      <th>country_France</th>\n",
       "      <th>Age_young</th>\n",
       "      <th>gender_Female</th>\n",
       "      <th>country_Spain</th>\n",
       "      <th>country_Germany</th>\n",
       "      <th>Age_mature</th>\n",
       "      <th>active_member</th>\n",
       "      <th>tenure</th>\n",
       "      <th>balance</th>\n",
       "      <th>credit_score</th>\n",
       "    </tr>\n",
       "  </thead>\n",
       "  <tbody>\n",
       "    <tr>\n",
       "      <th>0</th>\n",
       "      <td>1.0</td>\n",
       "      <td>1.0</td>\n",
       "      <td>0.0</td>\n",
       "      <td>0.0</td>\n",
       "      <td>0.0</td>\n",
       "      <td>0.0</td>\n",
       "      <td>1.0</td>\n",
       "      <td>1.0</td>\n",
       "      <td>4.0</td>\n",
       "      <td>5632728.0</td>\n",
       "      <td>200.0</td>\n",
       "    </tr>\n",
       "  </tbody>\n",
       "</table>\n",
       "</div>"
      ],
      "text/plain": [
       "   gender_Male  country_France  Age_young  gender_Female  country_Spain  \\\n",
       "0          1.0             1.0        0.0            0.0            0.0   \n",
       "\n",
       "   country_Germany  Age_mature  active_member  tenure    balance  credit_score  \n",
       "0              0.0         1.0            1.0     4.0  5632728.0         200.0  "
      ]
     },
     "execution_count": 59,
     "metadata": {},
     "output_type": "execute_result"
    }
   ],
   "source": [
    "# output from input data\n",
    "input_data"
   ]
  },
  {
   "cell_type": "code",
   "execution_count": 60,
   "id": "9f863159",
   "metadata": {},
   "outputs": [],
   "source": [
    "# reindex data\n",
    "input_data = input_data.transpose().reindex(features).transpose()"
   ]
  },
  {
   "cell_type": "code",
   "execution_count": 61,
   "id": "f6f7c406",
   "metadata": {},
   "outputs": [
    {
     "name": "stdout",
     "output_type": "stream",
     "text": [
      "Hasil customer adalah unchurn\n"
     ]
    }
   ],
   "source": [
    "# resul prediction\n",
    "result_prediction = model_svm.predict(input_data)\n",
    "\n",
    "if result_prediction == 0:\n",
    "    print(\"Hasil customer adalah unchurn\")\n",
    "else:\n",
    "    print(\"Hasil customer adalah churn\")"
   ]
  },
  {
   "cell_type": "code",
   "execution_count": 66,
   "id": "8e4130cc",
   "metadata": {},
   "outputs": [],
   "source": [
    "# save model\n",
    "pickle.dump(model_svm, open(\"D:/BOOTCAMP/project/Project Pribadi/ml churn/model_svm.pkl\", 'wb'))\n",
    "\n",
    "# save data X_train\n",
    "pickle.dump(selected_feature_names, open(\"D:/BOOTCAMP/project/Project Pribadi/ml churn/X_train_fix.pkl\", 'wb'))\n",
    "\n",
    "# save data y_train\n",
    "pickle.dump(y_train_smote, open(\"D:/BOOTCAMP/project/Project Pribadi/ml churn/y_train_fix.pkl\", 'wb'))"
   ]
  }
 ],
 "metadata": {
  "kernelspec": {
   "display_name": "Python 3 (ipykernel)",
   "language": "python",
   "name": "python3"
  },
  "language_info": {
   "codemirror_mode": {
    "name": "ipython",
    "version": 3
   },
   "file_extension": ".py",
   "mimetype": "text/x-python",
   "name": "python",
   "nbconvert_exporter": "python",
   "pygments_lexer": "ipython3",
   "version": "3.9.13"
  }
 },
 "nbformat": 4,
 "nbformat_minor": 5
}
